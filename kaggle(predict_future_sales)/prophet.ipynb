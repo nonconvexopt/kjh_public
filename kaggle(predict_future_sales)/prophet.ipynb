{
 "cells": [
  {
   "cell_type": "code",
   "execution_count": 1,
   "metadata": {},
   "outputs": [],
   "source": [
    "from fbprophet import Prophet\n",
    "import pandas as pd\n",
    "import numpy as np\n",
    "import plotly\n",
    "import gc\n",
    "import os\n",
    "os.environ['NUMEXPR_MAX_THREADS'] = '8'"
   ]
  },
  {
   "cell_type": "code",
   "execution_count": 2,
   "metadata": {},
   "outputs": [],
   "source": [
    "data = pd.read_pickle('./data/dat.pkl')"
   ]
  },
  {
   "cell_type": "code",
   "execution_count": 3,
   "metadata": {},
   "outputs": [],
   "source": [
    "train = data[data.date_block_num <= 33][['date', 'item_cnt_month', 'item_price']]\n",
    "train['revenue'] = np.exp(train['item_cnt_month'] - 1) * np.exp(train['item_price'])\n",
    "train = train[['date', 'revenue']]\n",
    "\n",
    "train.columns = ['ds', 'y']\n",
    "\n",
    "train = train.groupby('ds').agg({'y':'sum'})\n",
    "train.reset_index(inplace=True)\n",
    "train['y'] = np.log(train['y'])\n",
    "\n",
    "del data\n",
    "gc.collect();"
   ]
  },
  {
   "cell_type": "code",
   "execution_count": 4,
   "metadata": {},
   "outputs": [
    {
     "data": {
      "text/plain": [
       "<fbprophet.forecaster.Prophet at 0x222516abc88>"
      ]
     },
     "execution_count": 4,
     "metadata": {},
     "output_type": "execute_result"
    }
   ],
   "source": [
    "model = Prophet(growth='linear', daily_seasonality=True)\n",
    "model.fit(train)"
   ]
  },
  {
   "cell_type": "code",
   "execution_count": 5,
   "metadata": {},
   "outputs": [],
   "source": [
    "future = model.make_future_dataframe(periods = 30)\n",
    "pred = model.predict(future)"
   ]
  },
  {
   "cell_type": "code",
   "execution_count": 6,
   "metadata": {},
   "outputs": [],
   "source": [
    "test_pred = pred[['yhat_upper', 'yhat', 'yhat_lower']].iloc[-30:]\n",
    "test_pred.columns = ['prophet_yhat_upper', 'prophet_yhat', 'prophet_yhat_lower']\n",
    "test_pred.to_csv(\"./features/feature_prophet.csv\", index=False)"
   ]
  }
 ],
 "metadata": {
  "kernelspec": {
   "display_name": "Python 3",
   "language": "python",
   "name": "python3"
  },
  "language_info": {
   "codemirror_mode": {
    "name": "ipython",
    "version": 3
   },
   "file_extension": ".py",
   "mimetype": "text/x-python",
   "name": "python",
   "nbconvert_exporter": "python",
   "pygments_lexer": "ipython3",
   "version": "3.7.7"
  }
 },
 "nbformat": 4,
 "nbformat_minor": 4
}

{
 "cells": [
  {
   "cell_type": "code",
   "execution_count": 1,
   "metadata": {},
   "outputs": [],
   "source": [
    "from xgboost import XGBRegressor\n",
    "from xgboost import plot_importance\n",
    "from sklearn.metrics import mean_squared_error\n",
    "from hyperopt import fmin, tpe, hp\n",
    "import pandas as pd\n",
    "import numpy as np\n",
    "import gc"
   ]
  },
  {
   "cell_type": "markdown",
   "metadata": {},
   "source": [
    "<h3>NA imputed with 0</h3>"
   ]
  },
  {
   "cell_type": "code",
   "execution_count": 2,
   "metadata": {},
   "outputs": [],
   "source": [
    "data = pd.read_pickle('./data/data.pkl')\n",
    "\n",
    "X_train = data[data.date_block_num < 33].drop(['item_cnt_month', 'ID'], axis=1)\n",
    "Y_train = data[data.date_block_num < 33]['item_cnt_month']\n",
    "X_valid = data[data.date_block_num == 33].drop(['item_cnt_month', 'ID'], axis=1)\n",
    "Y_valid = data[data.date_block_num == 33]['item_cnt_month']\n",
    "X_test = data[data.date_block_num == 34].drop(['item_cnt_month', 'ID'], axis=1)\n",
    "\n",
    "del data\n",
    "gc.collect()"
   ]
  },
  {
   "cell_type": "code",
   "execution_count": 3,
   "metadata": {},
   "outputs": [
    {
     "name": "stdout",
     "output_type": "stream",
     "text": [
      "100%|█████████████████████████████████████████████| 50/50 [7:28:52<00:00, 538.65s/trial, best loss: 0.8500720262527466]\n",
      "{'eta': 0.054842366281169515, 'max_depth': 11.0, 'n_estimators': 1600.0, 'subsample': 0.8995297930425445}\n"
     ]
    }
   ],
   "source": [
    "#Search space\n",
    "param_space = {'max_depth': hp.quniform('max_depth', 7, 13, 1),\n",
    "               'subsample': hp.uniform('subsample', 0.7, 1),\n",
    "               'n_estimators': hp.quniform('n_estimators', 1000, 2000, 100),\n",
    "               'eta':hp.loguniform('eta', np.log(0.01), np.log(0.9))}\n",
    "\n",
    "#objective\n",
    "def objective(params):\n",
    "    model = XGBRegressor(\n",
    "        max_depth = int(params['max_depth']),\n",
    "        n_estimators = int(params['n_estimators']),\n",
    "        objective = 'reg:squarederror',\n",
    "        min_child_weight=300,\n",
    "        subsample = params['subsample'],\n",
    "        colsample_bytree=0.8,\n",
    "        eta=params['eta'])\n",
    "    model.fit(\n",
    "        X_train, \n",
    "        Y_train, \n",
    "        eval_metric=\"rmse\", \n",
    "        eval_set=[(X_valid, Y_valid)], \n",
    "        verbose=False,\n",
    "        early_stopping_rounds = 10)\n",
    "    \n",
    "    return mean_squared_error(Y_valid, model.predict(X_valid).clip(0, 20), squared=True)\n",
    "\n",
    "#run\n",
    "best = fmin(fn=objective, space=param_space, \n",
    "            max_evals=50, \n",
    "            rstate=np.random.RandomState(777), \n",
    "            algo=tpe.suggest)\n",
    "print(best)\n"
   ]
  },
  {
   "cell_type": "code",
   "execution_count": 6,
   "metadata": {},
   "outputs": [
    {
     "name": "stdout",
     "output_type": "stream",
     "text": [
      "[0]\tvalidation_0-rmse:1.18261\n",
      "Will train until validation_0-rmse hasn't improved in 20 rounds.\n",
      "[10]\tvalidation_0-rmse:0.956289\n",
      "[20]\tvalidation_0-rmse:0.930723\n",
      "[30]\tvalidation_0-rmse:0.932522\n",
      "[40]\tvalidation_0-rmse:0.937173\n",
      "Stopping. Best iteration:\n",
      "[20]\tvalidation_0-rmse:0.930723\n",
      "\n"
     ]
    },
    {
     "data": {
      "text/plain": [
       "XGBRegressor(base_score=0.5, booster='gbtree', colsample_bylevel=1,\n",
       "             colsample_bynode=1, colsample_bytree=0.8, eta=0.054842366281169515,\n",
       "             gamma=0, importance_type='gain', learning_rate=0.1,\n",
       "             max_delta_step=0, max_depth=11, min_child_weight=300, missing=None,\n",
       "             n_estimators=1600, n_jobs=1, nthread=None,\n",
       "             objective='reg:squarederror', random_state=0, reg_alpha=0,\n",
       "             reg_lambda=1, scale_pos_weight=1, seed=None, silent=None,\n",
       "             subsample=0.8995297930425445, verbosity=1)"
      ]
     },
     "execution_count": 6,
     "metadata": {},
     "output_type": "execute_result"
    }
   ],
   "source": [
    "model = XGBRegressor(\n",
    "    objective = 'reg:squarederror',\n",
    "    max_depth=11,\n",
    "    n_estimators=1600,\n",
    "    min_child_weight=300, \n",
    "    colsample_bytree=0.8, \n",
    "    subsample=0.8995297930425445, \n",
    "    eta=0.054842366281169515)\n",
    "\n",
    "model.fit(\n",
    "    X_train, \n",
    "    Y_train, \n",
    "    eval_metric=\"rmse\", \n",
    "    eval_set=[(X_valid, Y_valid)], \n",
    "    verbose=10,\n",
    "    early_stopping_rounds = 20)"
   ]
  },
  {
   "cell_type": "code",
   "execution_count": 7,
   "metadata": {},
   "outputs": [],
   "source": [
    "data = pd.read_csv(\"./data/test.csv\")\n",
    "data['item_cnt_month'] = model.predict(X_test).clip(0, 20)\n",
    "data[['ID', 'item_cnt_month']].to_csv(\"./features/feature_xgboost.csv\", index = False)"
   ]
  },
  {
   "cell_type": "code",
   "execution_count": 8,
   "metadata": {},
   "outputs": [],
   "source": [
    "pred = model.predict(pd.concat((X_train, X_valid))).clip(0, 20)\n",
    "data = pd.concat((X_train, X_valid))\n",
    "data['item_cnt_month'] = pred\n",
    "data.to_csv(\"./features_train/feature_xgboost.csv\")"
   ]
  },
  {
   "cell_type": "markdown",
   "metadata": {},
   "source": [
    "<h3>NA not imputed</h3>"
   ]
  },
  {
   "cell_type": "code",
   "execution_count": 2,
   "metadata": {},
   "outputs": [
    {
     "data": {
      "text/plain": [
       "0"
      ]
     },
     "execution_count": 2,
     "metadata": {},
     "output_type": "execute_result"
    }
   ],
   "source": [
    "data = pd.read_pickle('./data/data_na.pkl')\n",
    "\n",
    "X_train = data[data.date_block_num < 33].drop(['item_cnt_month', 'ID'], axis=1)\n",
    "Y_train = data[data.date_block_num < 33]['item_cnt_month']\n",
    "X_valid = data[data.date_block_num == 33].drop(['item_cnt_month', 'ID'], axis=1)\n",
    "Y_valid = data[data.date_block_num == 33]['item_cnt_month']\n",
    "X_test = data[data.date_block_num == 34].drop(['item_cnt_month', 'ID'], axis=1)\n",
    "\n",
    "del data\n",
    "gc.collect()"
   ]
  },
  {
   "cell_type": "code",
   "execution_count": null,
   "metadata": {},
   "outputs": [
    {
     "name": "stdout",
     "output_type": "stream",
     "text": [
      "  6%|██▊                                           | 3/50 [35:53<9:21:27, 716.75s/trial, best loss: 0.8658555746078491]"
     ]
    }
   ],
   "source": [
    "#Search space\n",
    "param_space = {'max_depth': hp.quniform('max_depth', 7, 13, 1),\n",
    "               'subsample': hp.uniform('subsample', 0.7, 1),\n",
    "               'n_estimators': hp.quniform('n_estimators', 1000, 2000, 100),\n",
    "               'eta':hp.loguniform('eta', np.log(0.01), np.log(0.9))}\n",
    "\n",
    "#objective\n",
    "def objective(params):\n",
    "    model = XGBRegressor(\n",
    "        max_depth = int(params['max_depth']),\n",
    "        n_estimators = int(params['n_estimators']),\n",
    "        objective = 'reg:squarederror',\n",
    "        min_child_weight=300,\n",
    "        subsample = params['subsample'],\n",
    "        colsample_bytree=0.8,\n",
    "        eta=params['eta'])\n",
    "    model.fit(\n",
    "        X_train, \n",
    "        Y_train, \n",
    "        eval_metric=\"rmse\", \n",
    "        eval_set=[(X_valid, Y_valid)], \n",
    "        verbose=False, \n",
    "        early_stopping_rounds = 10)\n",
    "    \n",
    "    return mean_squared_error(Y_valid, model.predict(X_valid), squared=True)\n",
    "\n",
    "#run\n",
    "best = fmin(fn=objective, space=param_space, \n",
    "            max_evals=50, \n",
    "            rstate=np.random.RandomState(777), \n",
    "            algo=tpe.suggest)\n",
    "print(best)\n"
   ]
  },
  {
   "cell_type": "code",
   "execution_count": 3,
   "metadata": {},
   "outputs": [
    {
     "name": "stdout",
     "output_type": "stream",
     "text": [
      "[0]\tvalidation_0-rmse:1.1786\n",
      "Will train until validation_0-rmse hasn't improved in 20 rounds.\n",
      "[10]\tvalidation_0-rmse:0.947804\n",
      "[20]\tvalidation_0-rmse:0.923671\n",
      "[30]\tvalidation_0-rmse:0.931383\n",
      "Stopping. Best iteration:\n",
      "[19]\tvalidation_0-rmse:0.923338\n",
      "\n"
     ]
    },
    {
     "data": {
      "text/plain": [
       "XGBRegressor(base_score=0.5, booster='gbtree', colsample_bylevel=1,\n",
       "             colsample_bynode=1, colsample_bytree=0.8, eta=0.0816209890020063,\n",
       "             gamma=0, importance_type='gain', learning_rate=0.1,\n",
       "             max_delta_step=0, max_depth=13, min_child_weight=300, missing=None,\n",
       "             n_estimators=1200, n_jobs=1, nthread=None,\n",
       "             objective='reg:squarederror', random_state=0, reg_alpha=0,\n",
       "             reg_lambda=1, scale_pos_weight=1, seed=None, silent=None,\n",
       "             subsample=0.9928380413657569, verbosity=1)"
      ]
     },
     "execution_count": 3,
     "metadata": {},
     "output_type": "execute_result"
    }
   ],
   "source": [
    "model = XGBRegressor(\n",
    "    objective = 'reg:squarederror',\n",
    "    max_depth=13,\n",
    "    n_estimators=1200,\n",
    "    min_child_weight=300, \n",
    "    colsample_bytree=0.8, \n",
    "    subsample=0.9928380413657569, \n",
    "    eta=0.0816209890020063)\n",
    "\n",
    "model.fit(\n",
    "    X_train, \n",
    "    Y_train, \n",
    "    eval_metric=\"rmse\", \n",
    "    eval_set=[(X_valid, Y_valid)], \n",
    "    verbose=10,\n",
    "    early_stopping_rounds = 20)"
   ]
  },
  {
   "cell_type": "code",
   "execution_count": 4,
   "metadata": {},
   "outputs": [],
   "source": [
    "data = pd.read_csv(\"./data/test.csv\")\n",
    "data['item_cnt_month'] = model.predict(X_test).clip(0, 20)\n",
    "data[['ID', 'item_cnt_month']].to_csv(\"./features/feature_xgboost_na.csv\", index = False)"
   ]
  },
  {
   "cell_type": "code",
   "execution_count": 5,
   "metadata": {},
   "outputs": [],
   "source": [
    "pred = model.predict(pd.concat((X_train, X_valid))).clip(0, 20)\n",
    "data = pd.concat((X_train, X_valid))\n",
    "data['item_cnt_month'] = pred\n",
    "data.to_csv(\"./features_train/feature_xgboost_na.csv\")"
   ]
  },
  {
   "cell_type": "code",
   "execution_count": null,
   "metadata": {},
   "outputs": [],
   "source": []
  }
 ],
 "metadata": {
  "kernelspec": {
   "display_name": "Python 3",
   "language": "python",
   "name": "python3"
  },
  "language_info": {
   "codemirror_mode": {
    "name": "ipython",
    "version": 3
   },
   "file_extension": ".py",
   "mimetype": "text/x-python",
   "name": "python",
   "nbconvert_exporter": "python",
   "pygments_lexer": "ipython3",
   "version": "3.7.7"
  }
 },
 "nbformat": 4,
 "nbformat_minor": 4
}

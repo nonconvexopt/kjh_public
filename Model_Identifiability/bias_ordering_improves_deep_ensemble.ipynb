{
 "cells": [
  {
   "cell_type": "markdown",
   "metadata": {},
   "source": [
    "### Ordering the bias improves the performance of deep ensemble."
   ]
  },
  {
   "cell_type": "code",
   "execution_count": null,
   "metadata": {},
   "outputs": [],
   "source": [
    "import os, sys\n",
    "from pathlib import Path\n",
    "import types\n",
    "from tqdm import tqdm\n",
    "\n",
    "import torch\n",
    "import torch.nn as nn\n",
    "import torch.nn.functional as F\n",
    "import torch.optim as optim\n",
    "import torchvision\n",
    "import torchvision.transforms as transforms\n",
    "import torchvision.datasets as dsets\n",
    "from torch.utils.data import random_split, DataLoader\n",
    "from torch.optim.lr_scheduler import LambdaLR\n",
    "import numpy as np\n",
    "import pandas as pd\n",
    "\n",
    "import timm\n",
    "\n",
    "device = torch.device(\"cuda\" if torch.cuda.is_available() else \"cpu\")\n",
    "torch.backends.cudnn.benchmark=True\n",
    "torch.backends.cudnn.deterministic=False"
   ]
  },
  {
   "cell_type": "code",
   "execution_count": 2,
   "metadata": {},
   "outputs": [
    {
     "name": "stdout",
     "output_type": "stream",
     "text": [
      "Files already downloaded and verified\n",
      "Files already downloaded and verified\n"
     ]
    }
   ],
   "source": [
    "num_classes = 10\n",
    "train_batchsize = 128\n",
    "eval_batchsize = 1000\n",
    "\n",
    "cifar10_mean = (0.49139968, 0.48215827 ,0.44653124)\n",
    "cifar10_std = (0.24703233, 0.24348505, 0.26158768)\n",
    "\n",
    "transform_train = transforms.Compose([\n",
    "    transforms.RandomCrop(32, padding=4),\n",
    "    transforms.RandomHorizontalFlip(),\n",
    "    transforms.ToTensor(),\n",
    "    transforms.Normalize(cifar10_mean, cifar10_std),\n",
    "])\n",
    "\n",
    "transform_test = transforms.Compose([\n",
    "    transforms.ToTensor(),\n",
    "    transforms.Normalize(cifar10_mean, cifar10_std),\n",
    "])\n",
    "\n",
    "train_set, val_set = random_split(\n",
    "    dsets.CIFAR10(\n",
    "        root=os.environ['DATA'],\n",
    "        train=True,\n",
    "        download=True,\n",
    "        transform=transform_train\n",
    "    ),\n",
    "    [45000, 5000]\n",
    ")\n",
    "train_loader = DataLoader(\n",
    "    train_set, batch_size=train_batchsize, shuffle=True, num_workers=4, pin_memory=True)\n",
    "val_loader = DataLoader(\n",
    "    val_set, batch_size=eval_batchsize, shuffle=True, num_workers=4, pin_memory=True)\n",
    "\n",
    "test_set = dsets.CIFAR10(\n",
    "    root=os.environ['DATA'], train=False, download=True, transform=transform_test)\n",
    "test_loader = DataLoader(\n",
    "    test_set, batch_size=eval_batchsize, shuffle=False, num_workers=8, pin_memory=True)"
   ]
  },
  {
   "cell_type": "code",
   "execution_count": 3,
   "metadata": {},
   "outputs": [],
   "source": [
    "## Detach the bias part of some nn.Module and manage it.\n",
    "class bias_order_reg1(nn.Module):\n",
    "    def __init__(self, module: nn.Module):\n",
    "        super().__init__()\n",
    "        self.module = module\n",
    "        if self.module.bias is not None:\n",
    "            self.bias = module.bias\n",
    "            self.module.bias = None\n",
    "        else:\n",
    "            self.bias = None\n",
    "            \n",
    "    def forward(self, x):\n",
    "        x = self.module(x)\n",
    "        if self.bias is not None:\n",
    "            # Inference on the log difference of consecutive bias values\n",
    "            x + self.bias.exp().cumsum(-1)\n",
    "        return x\n",
    "\n",
    "def set_bias_order_reg1(model):\n",
    "    for n, module in model.named_children():\n",
    "        if len(list(module.children())) > 0:\n",
    "            set_bias_order_reg1(module)\n",
    "            \n",
    "        if (isinstance(module, nn.Linear) or\n",
    "            isinstance(module, nn.Conv2d)):\n",
    "            #or\n",
    "            #isinstance(module, nn.BatchNorm1d) or\n",
    "            #isinstance(module, nn.BatchNorm2d)):\n",
    "            setattr(model, n, bias_order_reg1(module))\n",
    "    \n",
    "def reset_parameters(m):\n",
    "    if isinstance(m, nn.Conv2d) or isinstance(m, nn.Linear):\n",
    "        m.reset_parameters()"
   ]
  },
  {
   "cell_type": "code",
   "execution_count": null,
   "metadata": {},
   "outputs": [
    {
     "name": "stderr",
     "output_type": "stream",
     "text": [
      "  0%|                                                                               | 0/50 [00:00<?, ?it/s]"
     ]
    },
    {
     "name": "stdout",
     "output_type": "stream",
     "text": [
      "Files already downloaded and verified\n"
     ]
    },
    {
     "name": "stderr",
     "output_type": "stream",
     "text": [
      "  2%|█▎                                                                | 1/50 [19:03<15:34:04, 1143.76s/it]"
     ]
    },
    {
     "name": "stdout",
     "output_type": "stream",
     "text": [
      "Files already downloaded and verified\n"
     ]
    },
    {
     "name": "stderr",
     "output_type": "stream",
     "text": [
      "  4%|██▋                                                               | 2/50 [38:03<15:13:01, 1141.28s/it]"
     ]
    },
    {
     "name": "stdout",
     "output_type": "stream",
     "text": [
      "Files already downloaded and verified\n"
     ]
    },
    {
     "name": "stderr",
     "output_type": "stream",
     "text": [
      "  6%|███▉                                                              | 3/50 [57:05<14:54:12, 1141.55s/it]"
     ]
    },
    {
     "name": "stdout",
     "output_type": "stream",
     "text": [
      "Files already downloaded and verified\n"
     ]
    },
    {
     "name": "stderr",
     "output_type": "stream",
     "text": [
      "  8%|█████                                                           | 4/50 [1:16:34<14:43:38, 1152.58s/it]"
     ]
    },
    {
     "name": "stdout",
     "output_type": "stream",
     "text": [
      "Files already downloaded and verified\n"
     ]
    },
    {
     "name": "stderr",
     "output_type": "stream",
     "text": [
      " 10%|██████▍                                                         | 5/50 [1:36:48<14:41:06, 1174.81s/it]"
     ]
    },
    {
     "name": "stdout",
     "output_type": "stream",
     "text": [
      "Files already downloaded and verified\n"
     ]
    }
   ],
   "source": [
    "model_base = timm.create_model(\"resnet18\", pretrained=False)\n",
    "model_base.fc = nn.Linear(512, num_classes, bias = True)\n",
    "model_base = model_base.to(device)\n",
    "model_reg1 = timm.create_model(\"resnet18\", pretrained=False)\n",
    "model_reg1.fc = nn.Linear(512, num_classes, bias = True)\n",
    "set_bias_order_reg1(model_reg1)\n",
    "model_reg1 = model_reg1.to(device)\n",
    "\n",
    "coef_lambda = 1.0\n",
    "num_ensemble = 50\n",
    "num_epochs = 50\n",
    "lr = 0.1\n",
    "momentum = 0.9\n",
    "weight_decay = 1e-4\n",
    "\n",
    "criterion = nn.CrossEntropyLoss()\n",
    "\n",
    "\n",
    "for ensemble_ind in tqdm(range(num_ensemble)): \n",
    "    torch.manual_seed(ensemble_ind)\n",
    "    \n",
    "    model_base.apply(reset_parameters)\n",
    "    model_reg1.apply(reset_parameters)\n",
    "    \n",
    "    optimizer = optim.SGD(\n",
    "        list(model_base.parameters())\n",
    "        + list(model_reg1.parameters()),\n",
    "        lr=lr,\n",
    "        momentum=momentum,\n",
    "        weight_decay=weight_decay, \n",
    "    )\n",
    " \n",
    "    scheduler = torch.optim.lr_scheduler.CosineAnnealingLR(optimizer, T_max=50)\n",
    "\n",
    "    \n",
    "    train_set, val_set = random_split(\n",
    "        dsets.CIFAR10(\n",
    "            root=os.environ['DATA'],\n",
    "            train=True,\n",
    "            download=True,\n",
    "            transform=transform_train\n",
    "        ),\n",
    "        [45000, 5000]\n",
    "    )\n",
    "    train_loader = DataLoader(\n",
    "        train_set, batch_size=128, shuffle=True, num_workers=2)\n",
    "    val_loader = DataLoader(\n",
    "        val_set, batch_size=512, shuffle=True, num_workers=2)\n",
    "    \n",
    "    for epoch in range(num_epochs):\n",
    "        train_acc_base = 0.0\n",
    "        train_acc_reg1 = 0.0\n",
    "        val_acc_base = 0.0\n",
    "        val_acc_reg1 = 0.0\n",
    "        best_val_acc_base = 0.0\n",
    "        best_val_acc_reg1 = 0.0\n",
    "        \n",
    "        model_base.train()\n",
    "        model_reg1.train()\n",
    "        for images, labels in train_loader:  \n",
    "            # Move tensors to the configured device\n",
    "            images = images.to(device)\n",
    "            labels = labels.to(device)\n",
    "\n",
    "            # Forward pass\n",
    "            outputs_base = model_base(images)\n",
    "            outputs_reg1 = model_reg1(images)\n",
    "            loss_base = criterion(outputs_base, labels)\n",
    "            loss_reg1 = criterion(outputs_reg1, labels)\n",
    "            train_acc_base += (labels == outputs_base.argmax(axis = 1)).sum().item()\n",
    "            train_acc_reg1 += (labels == outputs_reg1.argmax(axis = 1)).sum().item()\n",
    "\n",
    "            # Backprpagation and optimization\n",
    "            optimizer.zero_grad()\n",
    "            loss_base.backward()\n",
    "            loss_reg1.backward()\n",
    "\n",
    "            optimizer.step()\n",
    "            \n",
    "            scheduler.step()\n",
    "            \n",
    "        train_acc_base /= len(train_set)\n",
    "        train_acc_reg1 /= len(train_set)\n",
    "        \n",
    "        model_base.eval()\n",
    "        model_reg1.eval()\n",
    "        with torch.no_grad():\n",
    "            for images, labels in val_loader:\n",
    "                val_input = images.to(device)\n",
    "                val_acc_base += (labels.to(device) == model_base(val_input).argmax(axis = 1)).sum().item()\n",
    "                val_acc_reg1 += (labels.to(device) == model_reg1(val_input).argmax(axis = 1)).sum().item()\n",
    "            val_acc_base /= len(val_set)\n",
    "            val_acc_reg1 /= len(val_set)\n",
    "         \n",
    "        if best_val_acc_base < val_acc_base:\n",
    "            best_val_acc_base = val_acc_base\n",
    "            torch.save(model_base.state_dict(), \"./saved_model/cifar10_base_{:03d}\".format(ensemble_ind))\n",
    "        if best_val_acc_reg1 < val_acc_reg1:\n",
    "            best_val_acc_reg1 = val_acc_reg1\n",
    "            torch.save(model_reg1.state_dict(), \"./saved_model/cifar10_reg1_{:03d}\".format(ensemble_ind))\n",
    "\n",
    "        \"\"\"\n",
    "        print ('Epoch [{}/{}], base: [{:.4f} / {:.4f}], reg1: [{:.4f} / {:.4f}], reg2: [{:.4f} / {:.4f}], reg3: [{:.4f} / {:.4f}]'.format(\n",
    "            epoch+1, num_epochs, train_acc_base, val_acc_base, train_acc_reg, val_acc_reg\n",
    "        ))\n",
    "        \"\"\""
   ]
  },
  {
   "cell_type": "code",
   "execution_count": 5,
   "metadata": {},
   "outputs": [],
   "source": [
    "result_base = torch.zeros((num_ensemble, len(test_set), 10))\n",
    "result_reg1 = torch.zeros((num_ensemble, len(test_set), 10))\n",
    "\n",
    "true_label = torch.zeros((len(test_set)))\n",
    "for ensemble_ind in range(num_ensemble):    \n",
    "    model_base.load_state_dict(torch.load(\"./saved_model/cifar10_base_{:03d}\".format(ensemble_ind)))\n",
    "    model_reg1.load_state_dict(torch.load(\"./saved_model/cifar10_reg1_{:03d}\".format(ensemble_ind)))\n",
    "    model_base.eval()\n",
    "    model_reg1.eval()\n",
    "    \n",
    "    with torch.no_grad():\n",
    "        for ind, (images, labels) in enumerate(test_loader):\n",
    "            test_input = images.to(device)\n",
    "            result_base[ensemble_ind, ind * eval_batchsize:(ind+1)* eval_batchsize, :] = model_base(test_input).detach()\n",
    "            result_reg1[ensemble_ind, ind * eval_batchsize:(ind+1)* eval_batchsize, :] = model_reg1(test_input).detach()\n",
    "            true_label[ind * eval_batchsize:(ind+1)* eval_batchsize] = labels"
   ]
  },
  {
   "cell_type": "code",
   "execution_count": 8,
   "metadata": {},
   "outputs": [
    {
     "data": {
      "text/plain": [
       "torch.Size([1000, 1000])"
      ]
     },
     "execution_count": 8,
     "metadata": {},
     "output_type": "execute_result"
    }
   ],
   "source": [
    "model_base(test_input).detach().shape"
   ]
  },
  {
   "cell_type": "code",
   "execution_count": 6,
   "metadata": {},
   "outputs": [
    {
     "data": {
      "text/plain": [
       "tensor(0.8798)"
      ]
     },
     "execution_count": 6,
     "metadata": {},
     "output_type": "execute_result"
    }
   ],
   "source": [
    "(result_base.argmax(-1).mode(0).values == true_label).float().mean()"
   ]
  },
  {
   "cell_type": "code",
   "execution_count": 8,
   "metadata": {},
   "outputs": [
    {
     "data": {
      "text/plain": [
       "tensor(0.8815)"
      ]
     },
     "execution_count": 8,
     "metadata": {},
     "output_type": "execute_result"
    }
   ],
   "source": [
    "(result_reg1.argmax(-1).mode(0).values == true_label).float().mean()"
   ]
  },
  {
   "cell_type": "code",
   "execution_count": 9,
   "metadata": {},
   "outputs": [
    {
     "data": {
      "text/plain": [
       "tensor(0.8794)"
      ]
     },
     "execution_count": 9,
     "metadata": {},
     "output_type": "execute_result"
    }
   ],
   "source": [
    "(F.softmax(result_base, dim=-1).mean(0).argmax(-1) == true_label).float().mean()"
   ]
  },
  {
   "cell_type": "code",
   "execution_count": 10,
   "metadata": {},
   "outputs": [
    {
     "data": {
      "text/plain": [
       "tensor(0.8811)"
      ]
     },
     "execution_count": 10,
     "metadata": {},
     "output_type": "execute_result"
    }
   ],
   "source": [
    "(F.softmax(result_reg1, dim=-1).mean(0).argmax(-1) == true_label).float().mean()"
   ]
  },
  {
   "cell_type": "markdown",
   "metadata": {},
   "source": [
    "#### Test Accuracy "
   ]
  }
 ],
 "metadata": {
  "kernelspec": {
   "display_name": "Python 3 (ipykernel)",
   "language": "python",
   "name": "python3"
  },
  "language_info": {
   "codemirror_mode": {
    "name": "ipython",
    "version": 3
   },
   "file_extension": ".py",
   "mimetype": "text/x-python",
   "name": "python",
   "nbconvert_exporter": "python",
   "pygments_lexer": "ipython3",
   "version": "3.10.4"
  }
 },
 "nbformat": 4,
 "nbformat_minor": 4
}

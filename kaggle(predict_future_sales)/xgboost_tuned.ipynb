{
 "cells": [
  {
   "cell_type": "code",
   "execution_count": 1,
   "metadata": {},
   "outputs": [],
   "source": [
    "from xgboost import XGBRegressor\n",
    "from xgboost import plot_importance\n",
    "from sklearn.metrics import mean_squared_error\n",
    "from hyperopt import fmin, tpe, hp\n",
    "import pandas as pd\n",
    "import numpy as np\n",
    "import gc"
   ]
  },
  {
   "cell_type": "markdown",
   "metadata": {},
   "source": [
    "<h3>NA imputed with 0</h3>"
   ]
  },
  {
   "cell_type": "code",
   "execution_count": 2,
   "metadata": {},
   "outputs": [
    {
     "data": {
      "text/plain": [
       "0"
      ]
     },
     "execution_count": 2,
     "metadata": {},
     "output_type": "execute_result"
    }
   ],
   "source": [
    "data = pd.read_pickle('./data/data.pkl')\n",
    "\n",
    "X_train = data[data.date_block_num < 33].drop(['item_cnt_month', 'ID'], axis=1)\n",
    "Y_train = data[data.date_block_num < 33]['item_cnt_month']\n",
    "X_valid = data[data.date_block_num == 33].drop(['item_cnt_month', 'ID'], axis=1)\n",
    "Y_valid = data[data.date_block_num == 33]['item_cnt_month']\n",
    "X_test = data[data.date_block_num == 34].drop(['item_cnt_month', 'ID'], axis=1)\n",
    "\n",
    "del data\n",
    "gc.collect()"
   ]
  },
  {
   "cell_type": "code",
   "execution_count": 3,
   "metadata": {},
   "outputs": [
    {
     "name": "stdout",
     "output_type": "stream",
     "text": [
      "[0]\tvalidation_0-rmse:1.18207\n",
      "Will train until validation_0-rmse hasn't improved in 20 rounds.\n",
      "[10]\tvalidation_0-rmse:0.960819\n",
      "[20]\tvalidation_0-rmse:0.946011\n",
      "[30]\tvalidation_0-rmse:0.953768\n",
      "Stopping. Best iteration:\n",
      "[17]\tvalidation_0-rmse:0.941673\n",
      "\n"
     ]
    },
    {
     "data": {
      "text/plain": [
       "XGBRegressor(base_score=0.5, booster='gbtree', colsample_bylevel=1,\n",
       "             colsample_bynode=1, colsample_bytree=0.8, eta=0.1, gamma=0,\n",
       "             importance_type='gain', learning_rate=0.1, max_delta_step=0,\n",
       "             max_depth=10, min_child_weight=0.5, missing=None,\n",
       "             n_estimators=1000, n_jobs=1, nthread=None,\n",
       "             objective='reg:squarederror', random_state=0, reg_alpha=0,\n",
       "             reg_lambda=1, scale_pos_weight=1, seed=None, silent=None,\n",
       "             subsample=0.8, verbosity=1)"
      ]
     },
     "execution_count": 3,
     "metadata": {},
     "output_type": "execute_result"
    }
   ],
   "source": [
    "model = XGBRegressor(\n",
    "    objective = 'reg:squarederror',\n",
    "    max_depth=10,\n",
    "    n_estimators=1000,\n",
    "    min_child_weight=0.5, \n",
    "    colsample_bytree=0.8, \n",
    "    subsample=0.8, \n",
    "    eta=0.1)\n",
    "\n",
    "model.fit(\n",
    "    X_train, \n",
    "    Y_train, \n",
    "    eval_metric=\"rmse\", \n",
    "    eval_set=[(X_valid, Y_valid)], \n",
    "    verbose=10,\n",
    "    early_stopping_rounds = 20)"
   ]
  },
  {
   "cell_type": "code",
   "execution_count": 4,
   "metadata": {},
   "outputs": [],
   "source": [
    "data = pd.read_csv(\"./data/test.csv\")\n",
    "data['item_cnt_month'] = model.predict(X_test).clip(0, 20)\n",
    "data[['ID', 'item_cnt_month']].to_csv(\"./features/feature_xgboost_tuned.csv\", index = False)"
   ]
  },
  {
   "cell_type": "code",
   "execution_count": 5,
   "metadata": {},
   "outputs": [],
   "source": [
    "pred = model.predict(pd.concat((X_train, X_valid))).clip(0, 20)\n",
    "data = pd.concat((X_train, X_valid))\n",
    "data['item_cnt_month'] = pred\n",
    "data.to_csv(\"./features_train/feature_xgboost_tuned.csv\")"
   ]
  },
  {
   "cell_type": "markdown",
   "metadata": {},
   "source": [
    "<h3>NA not imputed</h3>"
   ]
  },
  {
   "cell_type": "code",
   "execution_count": 6,
   "metadata": {},
   "outputs": [
    {
     "data": {
      "text/plain": [
       "46"
      ]
     },
     "execution_count": 6,
     "metadata": {},
     "output_type": "execute_result"
    }
   ],
   "source": [
    "data = pd.read_pickle('./data/data_na.pkl')\n",
    "\n",
    "X_train = data[data.date_block_num < 33].drop(['item_cnt_month', 'ID'], axis=1)\n",
    "Y_train = data[data.date_block_num < 33]['item_cnt_month']\n",
    "X_valid = data[data.date_block_num == 33].drop(['item_cnt_month', 'ID'], axis=1)\n",
    "Y_valid = data[data.date_block_num == 33]['item_cnt_month']\n",
    "X_test = data[data.date_block_num == 34].drop(['item_cnt_month', 'ID'], axis=1)\n",
    "\n",
    "del data\n",
    "gc.collect()"
   ]
  },
  {
   "cell_type": "code",
   "execution_count": 8,
   "metadata": {},
   "outputs": [
    {
     "name": "stdout",
     "output_type": "stream",
     "text": [
      "[0]\tvalidation_0-rmse:1.18457\n",
      "Will train until validation_0-rmse hasn't improved in 20 rounds.\n",
      "[1]\tvalidation_0-rmse:1.14001\n",
      "[2]\tvalidation_0-rmse:1.10186\n",
      "[3]\tvalidation_0-rmse:1.06898\n",
      "[4]\tvalidation_0-rmse:1.04262\n",
      "[5]\tvalidation_0-rmse:1.02085\n",
      "[6]\tvalidation_0-rmse:1.00541\n",
      "[7]\tvalidation_0-rmse:0.989137\n",
      "[8]\tvalidation_0-rmse:0.978815\n",
      "[9]\tvalidation_0-rmse:0.968461\n",
      "[10]\tvalidation_0-rmse:0.96011\n",
      "[11]\tvalidation_0-rmse:0.954147\n",
      "[12]\tvalidation_0-rmse:0.951559\n",
      "[13]\tvalidation_0-rmse:0.946802\n",
      "[14]\tvalidation_0-rmse:0.945114\n",
      "[15]\tvalidation_0-rmse:0.942738\n",
      "[16]\tvalidation_0-rmse:0.940231\n",
      "[17]\tvalidation_0-rmse:0.938392\n",
      "[18]\tvalidation_0-rmse:0.941186\n",
      "[19]\tvalidation_0-rmse:0.940643\n",
      "[20]\tvalidation_0-rmse:0.940531\n",
      "[21]\tvalidation_0-rmse:0.940213\n",
      "[22]\tvalidation_0-rmse:0.940751\n",
      "[23]\tvalidation_0-rmse:0.941535\n",
      "[24]\tvalidation_0-rmse:0.940659\n",
      "[25]\tvalidation_0-rmse:0.936868\n",
      "[26]\tvalidation_0-rmse:0.938014\n",
      "[27]\tvalidation_0-rmse:0.939032\n",
      "[28]\tvalidation_0-rmse:0.939096\n",
      "[29]\tvalidation_0-rmse:0.938576\n",
      "[30]\tvalidation_0-rmse:0.941088\n",
      "[31]\tvalidation_0-rmse:0.941824\n",
      "[32]\tvalidation_0-rmse:0.946027\n",
      "[33]\tvalidation_0-rmse:0.946247\n",
      "[34]\tvalidation_0-rmse:0.946219\n",
      "[35]\tvalidation_0-rmse:0.94508\n",
      "[36]\tvalidation_0-rmse:0.944496\n",
      "[37]\tvalidation_0-rmse:0.944599\n",
      "[38]\tvalidation_0-rmse:0.944804\n",
      "[39]\tvalidation_0-rmse:0.943899\n",
      "[40]\tvalidation_0-rmse:0.94395\n",
      "[41]\tvalidation_0-rmse:0.944876\n",
      "[42]\tvalidation_0-rmse:0.945534\n",
      "[43]\tvalidation_0-rmse:0.945712\n",
      "[44]\tvalidation_0-rmse:0.945722\n",
      "[45]\tvalidation_0-rmse:0.947278\n",
      "Stopping. Best iteration:\n",
      "[25]\tvalidation_0-rmse:0.936868\n",
      "\n"
     ]
    },
    {
     "data": {
      "text/plain": [
       "XGBRegressor(base_score=0.5, booster='gbtree', colsample_bylevel=1,\n",
       "             colsample_bynode=1, colsample_bytree=0.8, eta=0.1, gamma=0,\n",
       "             importance_type='gain', learning_rate=0.1, max_delta_step=0,\n",
       "             max_depth=10, min_child_weight=0.5, missing=None,\n",
       "             n_estimators=1000, n_jobs=1, nthread=None,\n",
       "             objective='reg:squarederror', random_state=0, reg_alpha=0,\n",
       "             reg_lambda=1, scale_pos_weight=1, seed=None, silent=None,\n",
       "             subsample=0.8, verbosity=1)"
      ]
     },
     "execution_count": 8,
     "metadata": {},
     "output_type": "execute_result"
    }
   ],
   "source": [
    "model = XGBRegressor(\n",
    "    objective = 'reg:squarederror',\n",
    "    max_depth=10,\n",
    "    n_estimators=1000,\n",
    "    min_child_weight=0.5, \n",
    "    colsample_bytree=0.8, \n",
    "    subsample=0.8, \n",
    "    eta=0.1)\n",
    "\n",
    "model.fit(\n",
    "    X_train, \n",
    "    Y_train, \n",
    "    eval_metric=\"rmse\", \n",
    "    eval_set=[(X_valid, Y_valid)], \n",
    "    verbose=10,\n",
    "    early_stopping_rounds = 20)"
   ]
  },
  {
   "cell_type": "code",
   "execution_count": 9,
   "metadata": {},
   "outputs": [],
   "source": [
    "data = pd.read_csv(\"./data/test.csv\")\n",
    "data['item_cnt_month'] = model.predict(X_test).clip(0, 20)\n",
    "data[['ID', 'item_cnt_month']].to_csv(\"./features/feature_xgboost_na_tuned.csv\", index = False)"
   ]
  },
  {
   "cell_type": "code",
   "execution_count": 10,
   "metadata": {},
   "outputs": [],
   "source": [
    "pred = model.predict(pd.concat((X_train, X_valid))).clip(0, 20)\n",
    "data = pd.concat((X_train, X_valid))\n",
    "data['item_cnt_month'] = pred\n",
    "data.to_csv(\"./features_train/feature_xgboost_na_tuned.csv\")"
   ]
  },
  {
   "cell_type": "code",
   "execution_count": null,
   "metadata": {},
   "outputs": [],
   "source": []
  }
 ],
 "metadata": {
  "kernelspec": {
   "display_name": "Python 3",
   "language": "python",
   "name": "python3"
  },
  "language_info": {
   "codemirror_mode": {
    "name": "ipython",
    "version": 3
   },
   "file_extension": ".py",
   "mimetype": "text/x-python",
   "name": "python",
   "nbconvert_exporter": "python",
   "pygments_lexer": "ipython3",
   "version": "3.7.7"
  }
 },
 "nbformat": 4,
 "nbformat_minor": 4
}

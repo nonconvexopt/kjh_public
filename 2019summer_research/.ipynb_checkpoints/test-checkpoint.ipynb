{
 "cells": [
  {
   "cell_type": "code",
   "execution_count": null,
   "metadata": {},
   "outputs": [],
   "source": [
    "%matplotlib notebook\n",
    "import tensorwatch as tw\n",
    "client = tw.WatcherClient(filename='test.log')"
   ]
  },
  {
   "cell_type": "code",
   "execution_count": null,
   "metadata": {},
   "outputs": [],
   "source": [
    "s0 = client.open_stream(name='metric1')\n",
    "v0 = tw.Visualizer(stream=s0)\n",
    "v0.show()"
   ]
  }
 ],
 "metadata": {
  "language": "python"
 },
 "nbformat": 4,
 "nbformat_minor": 2
}

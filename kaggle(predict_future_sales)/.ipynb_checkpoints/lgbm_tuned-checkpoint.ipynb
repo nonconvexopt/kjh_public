{
 "cells": [
  {
   "cell_type": "code",
   "execution_count": 1,
   "metadata": {},
   "outputs": [],
   "source": [
    "from lightgbm import LGBMRegressor\n",
    "from hyperopt import fmin, tpe, hp\n",
    "from sklearn.metrics import mean_squared_error\n",
    "import pandas as pd\n",
    "import numpy as np\n",
    "import gc"
   ]
  },
  {
   "cell_type": "markdown",
   "metadata": {},
   "source": [
    "<h3>NA imputed with 0</h3>"
   ]
  },
  {
   "cell_type": "code",
   "execution_count": 2,
   "metadata": {},
   "outputs": [
    {
     "data": {
      "text/plain": [
       "0"
      ]
     },
     "execution_count": 2,
     "metadata": {},
     "output_type": "execute_result"
    }
   ],
   "source": [
    "data = pd.read_pickle('./data/data.pkl')\n",
    "\n",
    "X_train = data[data.date_block_num < 33].drop(['item_cnt_month', 'ID'], axis=1)\n",
    "Y_train = data[data.date_block_num < 33]['item_cnt_month']\n",
    "X_valid = data[data.date_block_num == 33].drop(['item_cnt_month', 'ID'], axis=1)\n",
    "Y_valid = data[data.date_block_num == 33]['item_cnt_month']\n",
    "X_test = data[data.date_block_num == 34].drop(['item_cnt_month', 'ID'], axis=1)\n",
    "\n",
    "del data\n",
    "gc.collect()"
   ]
  },
  {
   "cell_type": "code",
   "execution_count": 3,
   "metadata": {},
   "outputs": [
    {
     "name": "stdout",
     "output_type": "stream",
     "text": [
      "Training until validation scores don't improve for 100 rounds\n",
      "[10]\tvalid_0's rmse: 1.15778\n",
      "[20]\tvalid_0's rmse: 1.09838\n",
      "[30]\tvalid_0's rmse: 1.05237\n",
      "[40]\tvalid_0's rmse: 1.01502\n",
      "[50]\tvalid_0's rmse: 0.989307\n",
      "[60]\tvalid_0's rmse: 0.96998\n",
      "[70]\tvalid_0's rmse: 0.956899\n",
      "[80]\tvalid_0's rmse: 0.948067\n",
      "[90]\tvalid_0's rmse: 0.941855\n",
      "[100]\tvalid_0's rmse: 0.938955\n",
      "[110]\tvalid_0's rmse: 0.936205\n",
      "[120]\tvalid_0's rmse: 0.935085\n",
      "[130]\tvalid_0's rmse: 0.935052\n",
      "[140]\tvalid_0's rmse: 0.936068\n",
      "[150]\tvalid_0's rmse: 0.936893\n",
      "[160]\tvalid_0's rmse: 0.938058\n",
      "[170]\tvalid_0's rmse: 0.940547\n",
      "[180]\tvalid_0's rmse: 0.941338\n",
      "[190]\tvalid_0's rmse: 0.943065\n",
      "[200]\tvalid_0's rmse: 0.944819\n",
      "[210]\tvalid_0's rmse: 0.9467\n",
      "[220]\tvalid_0's rmse: 0.948961\n",
      "Early stopping, best iteration is:\n",
      "[125]\tvalid_0's rmse: 0.934458\n"
     ]
    },
    {
     "data": {
      "text/plain": [
       "LGBMRegressor(bagging_fraction=0.7135681370918421, bagging_freq=1, boost='gbdt',\n",
       "              boost_from_average='true', boosting_type='gbdt',\n",
       "              class_weight=None, colsample_bytree=1.0,\n",
       "              feature_fraction=0.49446461478601994, importance_type='split',\n",
       "              learning_rate=0.015980721586917768, max_bin=107, max_depth=19,\n",
       "              metric='rmse', min_child_samples=20, min_child_weight=0.001,\n",
       "              min_data_in_leaf=88, min_split_gain=0.0,\n",
       "              min_sum_hessian_in_leaf=6, n_estimators=3747, n_jobs=-1,\n",
       "              num_leaves=2000, num_threads=3, objective=None, random_state=None,\n",
       "              reg_alpha=0.0, reg_lambda=0.0, silent=True, subsample=1.0,\n",
       "              subsample_for_bin=200000, subsample_freq=0, ...)"
      ]
     },
     "execution_count": 3,
     "metadata": {},
     "output_type": "execute_result"
    }
   ],
   "source": [
    "parameters = {\n",
    "    'num_leaves': 2000, 'max_depth': 19, 'max_bin': 107, 'n_estimators': 3747,\n",
    "    'bagging_freq': 1, 'bagging_fraction': 0.7135681370918421,\n",
    "    'feature_fraction': 0.49446461478601994, 'min_data_in_leaf': 88, \n",
    "    'learning_rate': 0.015980721586917768,\n",
    "    'min_sum_hessian_in_leaf': 6,\n",
    "    'boost_from_average' : 'true',\n",
    "    'boost' : 'gbdt',\n",
    "    'metric' : 'rmse'}\n",
    "\n",
    "model = LGBMRegressor(**parameters)\n",
    "    \n",
    "model.fit(\n",
    "    X_train,\n",
    "    Y_train, \n",
    "    eval_metric=\"rmse\", \n",
    "    eval_set=[(X_valid, Y_valid)], \n",
    "    verbose=10,\n",
    "    early_stopping_rounds = 100)"
   ]
  },
  {
   "cell_type": "code",
   "execution_count": 4,
   "metadata": {},
   "outputs": [],
   "source": [
    "data = pd.read_csv(\"./data/test.csv\")\n",
    "data['item_cnt_month'] = model.predict(X_test).clip(0, 20)\n",
    "data[['ID', 'item_cnt_month']].to_csv(\"./features/feature_lgbm_tuned.csv\", index = False)"
   ]
  },
  {
   "cell_type": "code",
   "execution_count": 5,
   "metadata": {},
   "outputs": [],
   "source": [
    "pred = model.predict(pd.concat((X_train, X_valid))).clip(0, 20)\n",
    "data = pd.concat((X_train, X_valid))\n",
    "data['item_cnt_month'] = pred\n",
    "data.to_csv(\"./features_train/feature_lgbm_tuned.csv\")"
   ]
  },
  {
   "cell_type": "markdown",
   "metadata": {},
   "source": [
    "<h3>NA not imputed</h3>"
   ]
  },
  {
   "cell_type": "code",
   "execution_count": 6,
   "metadata": {},
   "outputs": [
    {
     "data": {
      "text/plain": [
       "0"
      ]
     },
     "execution_count": 6,
     "metadata": {},
     "output_type": "execute_result"
    }
   ],
   "source": [
    "data = pd.read_pickle('./data/data_na.pkl')\n",
    "\n",
    "X_train = data[data.date_block_num < 33].drop(['item_cnt_month', 'ID'], axis=1)\n",
    "Y_train = data[data.date_block_num < 33]['item_cnt_month']\n",
    "X_valid = data[data.date_block_num == 33].drop(['item_cnt_month', 'ID'], axis=1)\n",
    "Y_valid = data[data.date_block_num == 33]['item_cnt_month']\n",
    "X_test = data[data.date_block_num == 34].drop(['item_cnt_month', 'ID'], axis=1)\n",
    "\n",
    "del data\n",
    "gc.collect()"
   ]
  },
  {
   "cell_type": "code",
   "execution_count": 7,
   "metadata": {},
   "outputs": [
    {
     "name": "stdout",
     "output_type": "stream",
     "text": [
      "Training until validation scores don't improve for 100 rounds\n",
      "[10]\tvalid_0's rmse: 1.15842\n",
      "[20]\tvalid_0's rmse: 1.09912\n",
      "[30]\tvalid_0's rmse: 1.05308\n",
      "[40]\tvalid_0's rmse: 1.01629\n",
      "[50]\tvalid_0's rmse: 0.990289\n",
      "[60]\tvalid_0's rmse: 0.971233\n",
      "[70]\tvalid_0's rmse: 0.957979\n",
      "[80]\tvalid_0's rmse: 0.948678\n",
      "[90]\tvalid_0's rmse: 0.942441\n",
      "[100]\tvalid_0's rmse: 0.939269\n",
      "[110]\tvalid_0's rmse: 0.936399\n",
      "[120]\tvalid_0's rmse: 0.935731\n",
      "[130]\tvalid_0's rmse: 0.936452\n",
      "[140]\tvalid_0's rmse: 0.936995\n",
      "[150]\tvalid_0's rmse: 0.938723\n",
      "[160]\tvalid_0's rmse: 0.939477\n",
      "[170]\tvalid_0's rmse: 0.941394\n",
      "[180]\tvalid_0's rmse: 0.94268\n",
      "[190]\tvalid_0's rmse: 0.943562\n",
      "[200]\tvalid_0's rmse: 0.944342\n",
      "[210]\tvalid_0's rmse: 0.945716\n",
      "[220]\tvalid_0's rmse: 0.947878\n",
      "Early stopping, best iteration is:\n",
      "[124]\tvalid_0's rmse: 0.935018\n"
     ]
    },
    {
     "data": {
      "text/plain": [
       "LGBMRegressor(bagging_fraction=0.7135681370918421, bagging_freq=1, boost='gbdt',\n",
       "              boost_from_average='true', boosting_type='gbdt',\n",
       "              class_weight=None, colsample_bytree=1.0,\n",
       "              feature_fraction=0.49446461478601994, importance_type='split',\n",
       "              learning_rate=0.015980721586917768, max_bin=107, max_depth=19,\n",
       "              metric='rmse', min_child_samples=20, min_child_weight=0.001,\n",
       "              min_data_in_leaf=88, min_split_gain=0.0,\n",
       "              min_sum_hessian_in_leaf=6, n_estimators=3747, n_jobs=-1,\n",
       "              num_leaves=2000, num_threads=3, objective=None, random_state=None,\n",
       "              reg_alpha=0.0, reg_lambda=0.0, silent=True, subsample=1.0,\n",
       "              subsample_for_bin=200000, subsample_freq=0, ...)"
      ]
     },
     "execution_count": 7,
     "metadata": {},
     "output_type": "execute_result"
    }
   ],
   "source": [
    "parameters = {\n",
    "    'num_leaves': 2000, 'max_depth': 19, 'max_bin': 107, 'n_estimators': 3747,\n",
    "    'bagging_freq': 1, 'bagging_fraction': 0.7135681370918421,\n",
    "    'feature_fraction': 0.49446461478601994, 'min_data_in_leaf': 88, \n",
    "    'learning_rate': 0.015980721586917768,\n",
    "    'min_sum_hessian_in_leaf': 6,\n",
    "    'boost_from_average' : 'true',\n",
    "    'boost' : 'gbdt',\n",
    "    'metric' : 'rmse'}\n",
    "model = LGBMRegressor(**parameters)\n",
    "    \n",
    "model.fit(\n",
    "    X_train,\n",
    "    Y_train, \n",
    "    eval_metric=\"rmse\", \n",
    "    eval_set=[(X_valid, Y_valid)], \n",
    "    verbose=10,\n",
    "    early_stopping_rounds = 100)"
   ]
  },
  {
   "cell_type": "code",
   "execution_count": 8,
   "metadata": {},
   "outputs": [],
   "source": [
    "data = pd.read_csv(\"./data/test.csv\")\n",
    "data['item_cnt_month'] = model.predict(X_test).clip(0, 20)\n",
    "data[['ID', 'item_cnt_month']].to_csv(\"./features/feature_lgbm_na_tuned.csv\", index = False)"
   ]
  },
  {
   "cell_type": "code",
   "execution_count": 9,
   "metadata": {},
   "outputs": [],
   "source": [
    "pred = model.predict(pd.concat((X_train, X_valid))).clip(0, 20)\n",
    "data = pd.concat((X_train, X_valid))\n",
    "data['item_cnt_month'] = pred\n",
    "data.to_csv(\"./features_train/feature_lgbm_na_tuned.csv\")"
   ]
  },
  {
   "cell_type": "code",
   "execution_count": null,
   "metadata": {},
   "outputs": [],
   "source": []
  }
 ],
 "metadata": {
  "kernelspec": {
   "display_name": "Python 3",
   "language": "python",
   "name": "python3"
  },
  "language_info": {
   "codemirror_mode": {
    "name": "ipython",
    "version": 3
   },
   "file_extension": ".py",
   "mimetype": "text/x-python",
   "name": "python",
   "nbconvert_exporter": "python",
   "pygments_lexer": "ipython3",
   "version": "3.7.7"
  }
 },
 "nbformat": 4,
 "nbformat_minor": 4
}

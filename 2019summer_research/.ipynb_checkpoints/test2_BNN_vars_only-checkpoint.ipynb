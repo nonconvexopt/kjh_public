{
 "cells": [
  {
   "cell_type": "code",
   "execution_count": null,
   "metadata": {},
   "outputs": [],
   "source": [
    "import numpy as np\n",
    "import pandas as pd\n",
    "import torch\n",
    "import torch.nn as nn\n",
    "import torch.optim as optim\n",
    "import torch.nn.init as init\n",
    "import torch.nn.functional as F\n",
    "import torch.utils as utils\n",
    "import torchvision\n",
    "import torchvision.transforms as transforms\n",
    "import torchvision.transforms.functional as TF\n",
    "import torchvision.datasets as dsets\n",
    "from torch.utils.data import Dataset,DataLoader\n",
    "from torchvision import models\n",
    "\n",
    "import cv2\n",
    "\n",
    "import matplotlib.pyplot as plt\n",
    "\n",
    "import time\n",
    "import copy\n",
    "import random as rd\n",
    "import sys\n",
    "import os\n",
    "os.chdir(\"/juhyeong/projects/2019연구학점제/\")\n",
    "os.environ[\"CUDA_VISIBLE_DEVICES\"] = \"1\"\n",
    "\n",
    "#codes.py\n",
    "sys.path.insert(0, '../')\n",
    "import codes\n",
    "\n",
    "device = torch.device('cuda')"
   ]
  },
  {
   "cell_type": "code",
   "execution_count": null,
   "metadata": {},
   "outputs": [],
   "source": [
    "transform = transforms.Compose(\n",
    "    [transforms.ToTensor(),\n",
    "     transforms.Normalize((0.5, 0.5, 0.5), (0.5, 0.5, 0.5))])\n",
    "\n",
    "trainset = torchvision.datasets.CIFAR10(root='../../data', train=True,\n",
    "                                        download=False, transform=transform)\n",
    "trainloader = torch.utils.data.DataLoader(trainset, batch_size=256,\n",
    "                                          shuffle=True, num_workers=0)\n",
    "\n",
    "testset = torchvision.datasets.CIFAR10(root='../../data', train=False,\n",
    "                                       download=False, transform=transform)\n",
    "testloader = torch.utils.data.DataLoader(testset, batch_size=256,\n",
    "                                         shuffle=False, num_workers=0)\n",
    "\n",
    "classes = ('plane', 'car', 'bird', 'cat',\n",
    "           'deer', 'dog', 'frog', 'horse', 'ship', 'truck')"
   ]
  },
  {
   "cell_type": "code",
   "execution_count": null,
   "metadata": {},
   "outputs": [],
   "source": [
    "examples = enumerate(testloader)\n",
    "batch_idx, (example_data, example_targets) = next(examples)\n",
    "\n",
    "fig = plt.figure()\n",
    "for i in range(6):\n",
    "    plt.subplot(2,3,i+1)\n",
    "    plt.tight_layout()\n",
    "    plt.imshow((example_data[i].transpose(0, 1).transpose(1, 2) + 1) / 2)\n",
    "    plt.title(\"Ground Truth: {}\".format(example_targets[i]))\n",
    "    plt.xticks([])\n",
    "    plt.yticks([])"
   ]
  },
  {
   "cell_type": "code",
   "execution_count": null,
   "metadata": {},
   "outputs": [],
   "source": [
    "class flatten(nn.Module):\n",
    "    def __init__(self):\n",
    "        super(flatten, self).__init__()\n",
    "\n",
    "    def forward(self, x):\n",
    "        shape = torch.prod(torch.tensor(x.shape[1:])).item()\n",
    "        return x.view(-1, shape)"
   ]
  },
  {
   "cell_type": "code",
   "execution_count": 10,
   "metadata": {},
   "outputs": [],
   "source": [
    "class BNN(nn.Module):\n",
    "    def __init__(self):\n",
    "        super(BNN, self).__init__()\n",
    "        self.means = codes.resnet152(pretrained = True)\n",
    "        self.vars = codes.resnet152(pretrained = False)\n",
    "        self.sample_net = codes.resnet152(pretrained = False)\n",
    "        \n",
    "    def sample(self):\n",
    "        for mean, var, sample in zip(self.means.modules(), self.vars.modules(), self.sample_net.modules()):\n",
    "            if isinstance(sample, nn.Conv2d):\n",
    "                sample.weight = torch.nn.Parameter(torch.randn(mean.weight.shape, device=device) * var.weight.exp() + mean.weight)\n",
    "            elif isinstance(sample, nn.BatchNorm2d):\n",
    "                sample.weight = torch.nn.Parameter(torch.randn(mean.weight.shape, device=device) * var.weight.exp() + mean.weight)\n",
    "                sample.bias = torch.nn.Parameter(torch.randn(mean.bias.shape, device=device) * var.bias.exp() + mean.bias)\n",
    "            elif isinstance(sample, nn.Linear):\n",
    "                sample.bias = torch.nn.Parameter(torch.randn(mean.bias.shape, device=device) * var.bias.exp() + mean.bias)\n",
    "            \n",
    "        \n",
    "    def forward(self, x):\n",
    "        return self.sample_net(x)\n",
    "\n",
    "model = BNN().cuda()"
   ]
  },
  {
   "cell_type": "markdown",
   "metadata": {},
   "source": [
    "<h1>Training</h1>"
   ]
  },
  {
   "cell_type": "code",
   "execution_count": 11,
   "metadata": {},
   "outputs": [],
   "source": [
    "epoch = 1000\n",
    "lr = 3e-4\n",
    "optimizer_vars = torch.optim.Adam(model.vars.parameters(), lr = lr)"
   ]
  },
  {
   "cell_type": "code",
   "execution_count": 12,
   "metadata": {},
   "outputs": [],
   "source": [
    "criterion = nn.CrossEntropyLoss()"
   ]
  },
  {
   "cell_type": "code",
   "execution_count": null,
   "metadata": {},
   "outputs": [
    {
     "name": "stdout",
     "output_type": "stream",
     "text": [
      "epoch : 0, test loss = 19.55981, time: 67.989458 sec\n",
      "epoch : 1, test loss = 17.75086, time: 68.327421 sec\n",
      "epoch : 2, test loss = 19.77752, time: 68.443818 sec\n",
      "epoch : 3, test loss = 19.99368, time: 61.357231 sec\n"
     ]
    }
   ],
   "source": [
    "for run in range(epoch):\n",
    "    start = time.time()\n",
    "    \n",
    "    #Training\n",
    "    model.train()\n",
    "    for ind, data in enumerate(trainloader):\n",
    "        model.sample()\n",
    "        optimizer_vars.zero_grad()\n",
    "        img, label = data\n",
    "        output = model(img.cuda())\n",
    "        loss = criterion(output, label.cuda())\n",
    "        loss.backward()\n",
    "        optimizer_vars.step()\n",
    "    \n",
    "    #Test\n",
    "    model.eval()\n",
    "    with torch.no_grad():\n",
    "        test_loss = 0.0\n",
    "        for ind, data in enumerate(testloader):\n",
    "            model.sample()\n",
    "            img, label = data\n",
    "            output = model(img.cuda())\n",
    "            test_loss += criterion(output, label.cuda())\n",
    "        test_loss /= (len(testloader) * 256)\n",
    "    print(\"epoch : %d, test loss = %5.5f, time: %f sec\" %(run, test_loss, time.time() - start))"
   ]
  },
  {
   "cell_type": "code",
   "execution_count": null,
   "metadata": {},
   "outputs": [],
   "source": []
  }
 ],
 "metadata": {
  "kernelspec": {
   "display_name": "Python 3",
   "language": "python",
   "name": "python3"
  },
  "language_info": {
   "codemirror_mode": {
    "name": "ipython",
    "version": 3
   },
   "file_extension": ".py",
   "mimetype": "text/x-python",
   "name": "python",
   "nbconvert_exporter": "python",
   "pygments_lexer": "ipython3",
   "version": "3.7.3"
  }
 },
 "nbformat": 4,
 "nbformat_minor": 4
}

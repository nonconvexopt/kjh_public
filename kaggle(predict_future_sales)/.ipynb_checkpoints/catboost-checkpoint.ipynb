{
 "cells": [
  {
   "cell_type": "code",
   "execution_count": 1,
   "metadata": {},
   "outputs": [],
   "source": [
    "from catboost import CatBoostRegressor\n",
    "from sklearn.metrics import mean_squared_error\n",
    "from hyperopt import fmin, tpe, hp\n",
    "import pandas as pd\n",
    "import numpy as np\n",
    "import gc"
   ]
  },
  {
   "cell_type": "markdown",
   "metadata": {},
   "source": [
    "<h3>NA imputed with 0</h3>"
   ]
  },
  {
   "cell_type": "code",
   "execution_count": 2,
   "metadata": {},
   "outputs": [],
   "source": [
    "data = pd.read_pickle('./data/data.pkl')\n",
    "\n",
    "X_train = data[data.date_block_num < 33].drop(['item_cnt_month', 'ID'], axis=1)\n",
    "Y_train = data[data.date_block_num < 33]['item_cnt_month']\n",
    "X_valid = data[data.date_block_num == 33].drop(['item_cnt_month', 'ID'], axis=1)\n",
    "Y_valid = data[data.date_block_num == 33]['item_cnt_month']\n",
    "X_test = data[data.date_block_num == 34].drop(['item_cnt_month', 'ID'], axis=1)\n",
    "\n",
    "del data\n",
    "gc.collect()"
   ]
  },
  {
   "cell_type": "code",
   "execution_count": 3,
   "metadata": {},
   "outputs": [
    {
     "data": {
      "text/plain": [
       "0.8863560587353168"
      ]
     },
     "execution_count": 3,
     "metadata": {},
     "output_type": "execute_result"
    }
   ],
   "source": [
    "model = CatBoostRegressor()\n",
    "model.fit(X_train, Y_train,\n",
    "          use_best_model=True,\n",
    "          eval_set=[(X_train, Y_train), (X_valid, Y_valid)],\n",
    "          verbose = False,\n",
    "          early_stopping_rounds = 20)\n",
    "mean_squared_error(Y_valid, model.predict(X_valid).clip(0, 20), squared=True)"
   ]
  },
  {
   "cell_type": "code",
   "execution_count": 4,
   "metadata": {},
   "outputs": [],
   "source": [
    "data = pd.read_csv(\"./data/test.csv\")\n",
    "data['item_cnt_month'] = model.predict(X_test).clip(0, 20)\n",
    "data[['ID', 'item_cnt_month']].to_csv(\"./features/feature_catboost.csv\", index = False)"
   ]
  },
  {
   "cell_type": "code",
   "execution_count": 5,
   "metadata": {},
   "outputs": [],
   "source": [
    "pred = model.predict(pd.concat((X_train, X_valid))).clip(0, 20)\n",
    "data = pd.concat((X_train, X_valid))\n",
    "data['item_cnt_month'] = pred\n",
    "data.to_csv(\"./features_train/feature_catboost.csv\")"
   ]
  },
  {
   "cell_type": "markdown",
   "metadata": {},
   "source": [
    "<h3>NA not imputed</h3>"
   ]
  },
  {
   "cell_type": "code",
   "execution_count": 6,
   "metadata": {},
   "outputs": [],
   "source": [
    "data = pd.read_pickle('./data/data_na.pkl')\n",
    "\n",
    "X_train = data[data.date_block_num < 33].drop(['item_cnt_month', 'ID'], axis=1)\n",
    "Y_train = data[data.date_block_num < 33]['item_cnt_month']\n",
    "X_valid = data[data.date_block_num == 33].drop(['item_cnt_month', 'ID'], axis=1)\n",
    "Y_valid = data[data.date_block_num == 33]['item_cnt_month']\n",
    "X_test = data[data.date_block_num == 34].drop(['item_cnt_month', 'ID'], axis=1)\n",
    "\n",
    "del data\n",
    "gc.collect()"
   ]
  },
  {
   "cell_type": "code",
   "execution_count": 7,
   "metadata": {},
   "outputs": [
    {
     "data": {
      "text/plain": [
       "0.8919523444455487"
      ]
     },
     "execution_count": 7,
     "metadata": {},
     "output_type": "execute_result"
    }
   ],
   "source": [
    "model = CatBoostRegressor()\n",
    "model.fit(X_train, Y_train,\n",
    "          use_best_model=True,\n",
    "          eval_set=[(X_train, Y_train), (X_valid, Y_valid)],\n",
    "          verbose = False,\n",
    "          early_stopping_rounds = 20)\n",
    "mean_squared_error(Y_valid, model.predict(X_valid).clip(0, 20), squared=True)"
   ]
  },
  {
   "cell_type": "code",
   "execution_count": 8,
   "metadata": {},
   "outputs": [],
   "source": [
    "data = pd.read_csv(\"./data/test.csv\")\n",
    "data['item_cnt_month'] = model.predict(X_test).clip(0, 20)\n",
    "data[['ID', 'item_cnt_month']].to_csv(\"./features/feature_catboost_na.csv\", index = False)"
   ]
  },
  {
   "cell_type": "code",
   "execution_count": null,
   "metadata": {},
   "outputs": [],
   "source": [
    "pred = model.predict(pd.concat((X_train, X_valid))).clip(0, 20)\n",
    "data = pd.concat((X_train, X_valid))\n",
    "data['item_cnt_month'] = pred\n",
    "data.to_csv(\"./features_train/feature_catboost_na.csv\")"
   ]
  },
  {
   "cell_type": "code",
   "execution_count": null,
   "metadata": {},
   "outputs": [],
   "source": []
  }
 ],
 "metadata": {
  "kernelspec": {
   "display_name": "Python 3",
   "language": "python",
   "name": "python3"
  },
  "language_info": {
   "codemirror_mode": {
    "name": "ipython",
    "version": 3
   },
   "file_extension": ".py",
   "mimetype": "text/x-python",
   "name": "python",
   "nbconvert_exporter": "python",
   "pygments_lexer": "ipython3",
   "version": "3.7.7"
  }
 },
 "nbformat": 4,
 "nbformat_minor": 4
}

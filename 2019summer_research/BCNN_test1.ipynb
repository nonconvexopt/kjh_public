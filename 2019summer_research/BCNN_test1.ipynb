{
 "cells": [
  {
   "cell_type": "code",
   "execution_count": 218,
   "metadata": {},
   "outputs": [],
   "source": [
    "import numpy as np\n",
    "import pandas as pd\n",
    "import torch\n",
    "import torch.nn as nn\n",
    "import torch.optim as optim\n",
    "import torch.nn.init as init\n",
    "import torch.nn.functional as F\n",
    "import torch.utils as utils\n",
    "import torchvision\n",
    "import torchvision.transforms as transforms\n",
    "import torchvision.transforms.functional as TF\n",
    "import torchvision.datasets as dsets\n",
    "from torch.utils.data import Dataset,DataLoader\n",
    "from torchvision import models\n",
    "\n",
    "import cv2\n",
    "\n",
    "import matplotlib.pyplot as plt\n",
    "\n",
    "import os\n",
    "os.chdir(\"/projects/2019연구학점제/\")\n",
    "os.environ[\"CUDA_VISIBLE_DEVICES\"] = \"1\"\n",
    "\n",
    "import time\n",
    "import copy\n",
    "import random as rd\n",
    "\n",
    "device = torch.device('cuda')"
   ]
  },
  {
   "cell_type": "markdown",
   "metadata": {},
   "source": [
    "<h1>Data</h1>"
   ]
  },
  {
   "cell_type": "code",
   "execution_count": 5,
   "metadata": {},
   "outputs": [],
   "source": [
    "#Custom pytorch Dataset for Adobe 240fps dataset in hdd\n",
    "rd.seed(0)\n",
    "\n",
    "#Train with Adobe 240fps dataset\n",
    "class train_set(Dataset):\n",
    "    def __init__(self):\n",
    "        self.dir = \"../data/adobe240fps/\"\n",
    "        self.folder_list = os.listdir(self.dir)\n",
    "        self.seq_len = 12\n",
    "        \n",
    "        self.data_paths = []\n",
    "        for folder_dir in self.folder_list:\n",
    "            files = sorted([x for x in os.listdir(self.dir + folder_dir + \"/240/\" + folder_dir) if \".jpg\" in x])\n",
    "            files = files[:len(files) - len(files)%self.seq_len]\n",
    "            \n",
    "            for seq_ind in range(int(len(files)/self.seq_len)):\n",
    "                paths = []\n",
    "                for ind in range(self.seq_len):\n",
    "                    paths.append(self.dir + folder_dir + \"/240/\" + folder_dir + \"/\" + files[seq_ind * self.seq_len + ind])\n",
    "                self.data_paths.append(copy.deepcopy(paths))\n",
    "        self.len = len(self.data_paths)\n",
    "\n",
    "        self.transform = transforms.Compose([\n",
    "            transforms.ToPILImage(),\n",
    "            transforms.Resize((224, 224)),\n",
    "            transforms.ToTensor(),\n",
    "            transforms.Normalize((128.0, 128.0, 128.0), (128.0, 128.0, 128.0))\n",
    "        ])\n",
    "        \n",
    "    def __len__(self):\n",
    "        return self.len\n",
    "        \n",
    "    def __getitem__(self, idx):\n",
    "        for ind, img_dir in enumerate(self.data_paths[idx]):\n",
    "            img = cv2.imread(img_dir)\n",
    "            if img is None:\n",
    "                print(\"Image load failed: %s\" %img_dir)\n",
    "                continue\n",
    "            if ind:\n",
    "                imgs = torch.cat((imgs, self.transform(img).unsqueeze(0)))\n",
    "            else:\n",
    "                imgs = self.transform(img).unsqueeze(0)\n",
    "        if imgs.shape[2] > imgs.shape[3]:\n",
    "            imgs = imgs.transpose(2,3)\n",
    "        return imgs.transpose(0,1)"
   ]
  },
  {
   "cell_type": "code",
   "execution_count": 219,
   "metadata": {},
   "outputs": [],
   "source": [
    "train_loader = DataLoader(train_set(), batch_size = 16, shuffle = True, num_workers = 0)"
   ]
  },
  {
   "cell_type": "code",
   "execution_count": 220,
   "metadata": {},
   "outputs": [
    {
     "name": "stdout",
     "output_type": "stream",
     "text": [
      "torch.Size([16, 3, 12, 224, 224])\n",
      "CPU times: user 7.71 s, sys: 0 ns, total: 7.71 s\n",
      "Wall time: 3.75 s\n"
     ]
    }
   ],
   "source": [
    "%%time\n",
    "for video in train_loader:\n",
    "    print(video.shape)\n",
    "    break"
   ]
  },
  {
   "cell_type": "markdown",
   "metadata": {},
   "source": [
    "<h1>Load data on Memory</h1>"
   ]
  },
  {
   "cell_type": "code",
   "execution_count": 6,
   "metadata": {},
   "outputs": [],
   "source": [
    "class train_data:\n",
    "    def __init__(self, batch_size = 4):\n",
    "        self.batch_size = batch_size\n",
    "        self.loader = DataLoader(train_set(), batch_size = self.batch_size, shuffle = True, num_workers = 0)\n",
    "        self.batch_size = self.loader \n",
    "        self.len = len(self.loader)\n",
    "        self.data = []\n",
    "        print(\"Total length: %d\" %self.len)\n",
    "        for ind, video in enumerate(self.loader):\n",
    "            self.data.append(copy.deepcopy(video))\n",
    "            if not ind%100:\n",
    "                print(ind)\n",
    "        self.shuffle()\n",
    "        self.order = list(range(self.len))\n",
    "        \n",
    "    def __len__(self):\n",
    "        return self.len\n",
    "    \n",
    "    def __getitem__(self, idx):\n",
    "        for ind in range(self.batch_size):\n",
    "            if ind:\n",
    "                videos = torch.cat((videos, data[idx * self.batch_size + ind].unsqueeze(0)))\n",
    "            else:\n",
    "                videos = data[idx * self.batch_size].unsqueeze(0)\n",
    "        return videos\n",
    "    \n",
    "    def shuffle(self):\n",
    "        rd.shuffle(self.data)"
   ]
  },
  {
   "cell_type": "markdown",
   "metadata": {},
   "source": [
    "<h1>Test Set</h1>"
   ]
  },
  {
   "cell_type": "code",
   "execution_count": null,
   "metadata": {},
   "outputs": [],
   "source": [
    "#Test With test set of middlburry\n",
    "class test_set_middleburry(Dataset):\n",
    "    def __init__(self):\n",
    "        self.dir = \"../\"\n"
   ]
  },
  {
   "cell_type": "markdown",
   "metadata": {},
   "source": [
    "<h1>Model</h1>"
   ]
  },
  {
   "cell_type": "code",
   "execution_count": null,
   "metadata": {},
   "outputs": [],
   "source": [
    "class sample_net1(nn.Module):\n",
    "    def __init__(self):\n",
    "        super(sample_net1, self)__init__()\n",
    "        \n",
    "        \n",
    "        \n",
    "        \n",
    "        \n",
    "        "
   ]
  },
  {
   "cell_type": "code",
   "execution_count": 215,
   "metadata": {},
   "outputs": [],
   "source": [
    "class testnet1(nn.Module):\n",
    "    def __init__(self):\n",
    "        super(testnet1, self).__init__()\n",
    "        \n",
    "        ###Encoder\n",
    "        self.enc_l1 = nn.Sequential(\n",
    "            nn.BatchNorm3d(3),\n",
    "            nn.LeakyReLU(),\n",
    "            nn.Conv3d(3, 3, kernel_size = (1, 1, 1)),\n",
    "            \n",
    "            nn.BatchNorm3d(3),\n",
    "            nn.LeakyReLU(),\n",
    "            nn.Conv3d(3, 3, kernel_size = (3, 1, 1), padding = (1, 0, 0)),\n",
    "            nn.Conv3d(3, 3, kernel_size = (1, 3, 3), padding = (0, 3, 3), dilation = (1, 3, 3))\n",
    "        )\n",
    "        self.enc_tr1 = nn.Conv3d(6, 6, kernel_size = (1, 1, 1), stride = (1, 2, 2))\n",
    "        \n",
    "        self.enc_l2 = nn.Sequential(\n",
    "            nn.BatchNorm3d(6),\n",
    "            nn.LeakyReLU(),\n",
    "            nn.Conv3d(6, 3, kernel_size = (1, 1, 1)),\n",
    "            \n",
    "            nn.BatchNorm3d(3),\n",
    "            nn.LeakyReLU(),\n",
    "            nn.Conv3d(3, 3, kernel_size = (3, 1, 1), padding = (1, 0, 0)),\n",
    "            nn.Conv3d(3, 3, kernel_size = (1, 3, 3), padding = (0, 3, 3), dilation = (1, 3, 3))\n",
    "        )\n",
    "        self.enc_tr2 = nn.Conv3d(9, 9, kernel_size = (1, 1, 1), stride = (1, 2, 2))\n",
    "        \n",
    "        self.enc_l3 = nn.Sequential(\n",
    "            nn.BatchNorm3d(9),\n",
    "            nn.LeakyReLU(),\n",
    "            nn.Conv3d(9, 3, kernel_size = (1, 1, 1)),\n",
    "            \n",
    "            nn.BatchNorm3d(3),\n",
    "            nn.LeakyReLU(),\n",
    "            nn.Conv3d(3, 3, kernel_size = (3, 1, 1), padding = (1, 0, 0)),\n",
    "            nn.Conv3d(3, 3, kernel_size = (1, 3, 3), padding = (0, 3, 3), dilation = (1, 3, 3))\n",
    "        )\n",
    "        self.enc_tr3 = nn.Conv3d(12, 12, kernel_size = (1, 1, 1), stride = (1, 2, 2))\n",
    "        \n",
    "        self.enc_l4 = nn.Sequential(\n",
    "            nn.BatchNorm3d(12),\n",
    "            nn.LeakyReLU(),\n",
    "            nn.Conv3d(12, 3, kernel_size = (1, 1, 1)),\n",
    "            \n",
    "            nn.BatchNorm3d(3),\n",
    "            nn.LeakyReLU(),\n",
    "            nn.Conv3d(3, 3, kernel_size = (3, 1, 1), padding = (1, 0, 0)),\n",
    "            nn.Conv3d(3, 3, kernel_size = (1, 3, 3), padding = (0, 3, 3), dilation = (1, 3, 3))\n",
    "        )\n",
    "        self.enc_tr4 = nn.Conv3d(15, 15, kernel_size = (1, 1, 1), stride = (1, 2, 2))\n",
    "        \n",
    "        self.enc_l5 = nn.Sequential(\n",
    "            nn.BatchNorm3d(15),\n",
    "            nn.LeakyReLU(),\n",
    "            nn.Conv3d(15, 3, kernel_size = (1, 1, 1)),\n",
    "            \n",
    "            nn.BatchNorm3d(3),\n",
    "            nn.LeakyReLU(),\n",
    "            nn.Conv3d(3, 3, kernel_size = (3, 1, 1), padding = (1, 0, 0)),\n",
    "            nn.Conv3d(3, 3, kernel_size = (1, 3, 3), padding = (0, 3, 3), dilation = (1, 3, 3))\n",
    "        )\n",
    "        self.enc_tr5 = nn.Conv3d(18, 18, kernel_size = (1, 1, 1), stride = (1, 2, 2))\n",
    "        \n",
    "        self.enc_l6 = nn.Sequential(\n",
    "            nn.BatchNorm3d(18),\n",
    "            nn.LeakyReLU(),\n",
    "            nn.Conv3d(18, 3, kernel_size = (1, 1, 1)),\n",
    "            \n",
    "            nn.BatchNorm3d(3),\n",
    "            nn.LeakyReLU(),\n",
    "            nn.Conv3d(3, 3, kernel_size = (3, 1, 1), padding = (1, 0, 0)),\n",
    "            nn.Conv3d(3, 3, kernel_size = (1, 3, 3), padding = (0, 3, 3), dilation = (1, 3, 3))\n",
    "        )\n",
    "        self.enc_tr6 = nn.Conv3d(21, 21, kernel_size = (1, 1, 1), stride = (1, 2, 2))\n",
    "        \n",
    "        self.enc_l7 = nn.Sequential(\n",
    "            nn.BatchNorm3d(21),\n",
    "            nn.LeakyReLU(),\n",
    "            nn.Conv3d(21, 3, kernel_size = (1, 1, 1)),\n",
    "            \n",
    "            nn.BatchNorm3d(3),\n",
    "            nn.LeakyReLU(),\n",
    "            nn.Conv3d(3, 3, kernel_size = (3, 1, 1), padding = (1, 0, 0)),\n",
    "            nn.Conv3d(3, 3, kernel_size = (1, 3, 3), padding = (0, 3, 3), dilation = (1, 3, 3))\n",
    "        )\n",
    "        self.enc_tr7 = nn.Conv3d(24, 24, kernel_size = (1, 1, 1), stride = (1, 2, 2))\n",
    "        \n",
    "        self.enc_l8 = nn.Sequential(\n",
    "            nn.BatchNorm3d(24),\n",
    "            nn.LeakyReLU(),\n",
    "            nn.Conv3d(24, 3, kernel_size = (1, 1, 1)),\n",
    "            \n",
    "            nn.BatchNorm3d(3),\n",
    "            nn.LeakyReLU(),\n",
    "            nn.Conv3d(3, 3, kernel_size = (3, 1, 1), padding = (1, 0, 0)),\n",
    "            nn.Conv3d(3, 3, kernel_size = (1, 3, 3), padding = (0, 3, 3), dilation = (1, 3, 3))\n",
    "        )\n",
    "        self.enc_tr8 = nn.Conv3d(27, 27, kernel_size = (1, 1, 1), stride = (1, 2, 2))\n",
    "        \n",
    "        self.enc_l9 = nn.Sequential(\n",
    "            nn.BatchNorm1d(324),\n",
    "            nn.LeakyReLU(),\n",
    "            nn.Linear(324, 2 * , kernel_size = (1, 1, 1)),\n",
    "        )\n",
    "        \n",
    "\n",
    "    def forward(self, x):\n",
    "        x = self.enc_tr1(torch.cat((x, self.enc_l1(x)), 1))\n",
    "        x = self.enc_tr2(torch.cat((x, self.enc_l2(x)), 1))\n",
    "        x = self.enc_tr3(torch.cat((x, self.enc_l3(x)), 1))\n",
    "        x = self.enc_tr4(torch.cat((x, self.enc_l4(x)), 1))\n",
    "        x = self.enc_tr5(torch.cat((x, self.enc_l5(x)), 1))\n",
    "        x = self.enc_tr6(torch.cat((x, self.enc_l6(x)), 1))\n",
    "        x = self.enc_tr7(torch.cat((x, self.enc_l7(x)), 1))\n",
    "        x = self.enc_tr8(torch.cat((x, self.enc_l8(x)), 1))\n",
    "        return x.view(x.shape[0], -1)"
   ]
  },
  {
   "cell_type": "code",
   "execution_count": 216,
   "metadata": {},
   "outputs": [],
   "source": [
    "sampler_net = testnet1().cuda()\n",
    "sample_net = "
   ]
  },
  {
   "cell_type": "code",
   "execution_count": 217,
   "metadata": {},
   "outputs": [
    {
     "name": "stdout",
     "output_type": "stream",
     "text": [
      "torch.Size([16, 3, 12, 224, 224])\n",
      "torch.Size([16, 324])\n",
      "CPU times: user 27.5 ms, sys: 647 µs, total: 28.1 ms\n",
      "Wall time: 27.7 ms\n"
     ]
    }
   ],
   "source": [
    "%%time\n",
    "print(video.shape)\n",
    "print(sampler_net(video.cuda()).shape)"
   ]
  },
  {
   "cell_type": "code",
   "execution_count": null,
   "metadata": {},
   "outputs": [],
   "source": []
  },
  {
   "cell_type": "code",
   "execution_count": null,
   "metadata": {},
   "outputs": [],
   "source": []
  }
 ],
 "metadata": {
  "kernelspec": {
   "display_name": "Python 3",
   "language": "python",
   "name": "python3"
  },
  "language_info": {
   "codemirror_mode": {
    "name": "ipython",
    "version": 3
   },
   "file_extension": ".py",
   "mimetype": "text/x-python",
   "name": "python",
   "nbconvert_exporter": "python",
   "pygments_lexer": "ipython3",
   "version": "3.7.3"
  }
 },
 "nbformat": 4,
 "nbformat_minor": 4
}

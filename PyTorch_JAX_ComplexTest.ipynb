{
 "cells": [
  {
   "cell_type": "markdown",
   "id": "69bba279-9e50-4469-a159-c93c4bfe5120",
   "metadata": {},
   "source": [
    "<h2>PyTorch</h2>"
   ]
  },
  {
   "cell_type": "code",
   "execution_count": 1,
   "id": "04d80ec3-ad8b-4751-b6e9-fbcab1102f2d",
   "metadata": {},
   "outputs": [],
   "source": [
    "import torch"
   ]
  },
  {
   "cell_type": "code",
   "execution_count": 2,
   "id": "8f52dbd6-627a-45db-9531-fa626a2d1e4d",
   "metadata": {},
   "outputs": [],
   "source": [
    "x = torch.view_as_complex(torch.randn(10, 2))"
   ]
  },
  {
   "cell_type": "code",
   "execution_count": 3,
   "id": "1f229327-ee0a-4eb5-8b16-07a2f8ff3f61",
   "metadata": {},
   "outputs": [
    {
     "data": {
      "text/plain": [
       "True"
      ]
     },
     "execution_count": 3,
     "metadata": {},
     "output_type": "execute_result"
    }
   ],
   "source": [
    "torch.allclose(\n",
    "    torch.exp(torch.view_as_complex(torch.tensor([0, 1], dtype = torch.float32)) * x),\n",
    "    torch.cos(x) + torch.view_as_complex(torch.tensor([0, 1], dtype = torch.float32)) * torch.sin(x)\n",
    ")"
   ]
  },
  {
   "cell_type": "markdown",
   "id": "41f3555d-93e9-4bcd-9df1-fdd61188bc8f",
   "metadata": {},
   "source": [
    "<h2>JAX</h2>"
   ]
  },
  {
   "cell_type": "code",
   "execution_count": 4,
   "id": "17b40b68-0c3c-4f88-a558-6455bd2cf5db",
   "metadata": {},
   "outputs": [],
   "source": [
    "import jax.numpy as jnp\n",
    "from jax import random as jrandom"
   ]
  },
  {
   "cell_type": "code",
   "execution_count": 5,
   "id": "62030a13-7b8a-4a20-887a-9f36c66749ef",
   "metadata": {},
   "outputs": [],
   "source": [
    "key = jrandom.PRNGKey(42)\n",
    "\n",
    "def f1(z):\n",
    "    return jnp.cos(A) + jnp.sin(A) * 1j\n",
    "\n",
    "def f2(z):\n",
    "    return jnp.exp(A * 1j)\n",
    "\n",
    "A = jrandom.normal(key, [10]) + jrandom.normal(key, [10]) * 1j"
   ]
  },
  {
   "cell_type": "code",
   "execution_count": 6,
   "id": "d2bbcbb4-a14e-4d0b-92c3-04915210e135",
   "metadata": {},
   "outputs": [
    {
     "data": {
      "text/plain": [
       "DeviceArray(True, dtype=bool)"
      ]
     },
     "execution_count": 6,
     "metadata": {},
     "output_type": "execute_result"
    }
   ],
   "source": [
    "jnp.allclose(f1(A), f2(A))"
   ]
  }
 ],
 "metadata": {
  "kernelspec": {
   "display_name": "Python 3 (ipykernel)",
   "language": "python",
   "name": "python3"
  },
  "language_info": {
   "codemirror_mode": {
    "name": "ipython",
    "version": 3
   },
   "file_extension": ".py",
   "mimetype": "text/x-python",
   "name": "python",
   "nbconvert_exporter": "python",
   "pygments_lexer": "ipython3",
   "version": "3.10.4"
  }
 },
 "nbformat": 4,
 "nbformat_minor": 5
}

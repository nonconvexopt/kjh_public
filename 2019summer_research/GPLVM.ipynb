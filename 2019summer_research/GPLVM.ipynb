{
 "cells": [
  {
   "cell_type": "markdown",
   "metadata": {},
   "source": [
    "<h1>Gaussian Process Autoencoder</h1>\n",
    "Python 3.7.2<br>\n",
    "Pytorch 1.0.1<br>\n",
    "matplotlib 3.0.2<br>\n",
    "jupyter 1.0.0<br>\n",
    "jupyter lab 0.35.3<br></h4>"
   ]
  },
  {
   "cell_type": "code",
   "execution_count": 1,
   "metadata": {},
   "outputs": [
    {
     "name": "stdout",
     "output_type": "stream",
     "text": [
      "CUDA Available :\n",
      "True\n"
     ]
    }
   ],
   "source": [
    "\"Jupyter Lab Extension\"\n",
    "%load_ext autoreload\n",
    "%autoreload 2\n",
    "%matplotlib ipympl\n",
    "\n",
    "\"패키지 불러오기\"\n",
    "import matplotlib.pyplot as plt\n",
    "from mpl_toolkits.mplot3d import Axes3D\n",
    "from mpl_toolkits.mplot3d import axes3d\n",
    "import numpy as np\n",
    "\n",
    "import torch\n",
    "import torch.nn as nn\n",
    "import torch.optim as optim\n",
    "import torch.nn.init as init\n",
    "import torch.nn.functional as F\n",
    "\n",
    "import torchvision.utils as utils\n",
    "import torchvision.datasets as dsets\n",
    "import torchvision.transforms as transforms\n",
    "\n",
    "from sklearn.datasets import load_iris\n",
    "from sklearn.decomposition import PCA\n",
    "\n",
    "print(\"CUDA Available :\")\n",
    "print(torch.cuda.is_available())"
   ]
  },
  {
   "cell_type": "code",
   "execution_count": 2,
   "metadata": {},
   "outputs": [
    {
     "name": "stdout",
     "output_type": "stream",
     "text": [
      "(150, 4) (150,)\n"
     ]
    }
   ],
   "source": [
    "data = load_iris().data\n",
    "label = load_iris().target\n",
    "print(data.shape, label.shape)"
   ]
  },
  {
   "cell_type": "code",
   "execution_count": 3,
   "metadata": {},
   "outputs": [
    {
     "data": {
      "text/plain": [
       "(150, 2)"
      ]
     },
     "execution_count": 3,
     "metadata": {},
     "output_type": "execute_result"
    }
   ],
   "source": [
    "pca = PCA(n_components=2).fit(data)\n",
    "data_new = pca.transform(data)\n",
    "data_new.shape"
   ]
  },
  {
   "cell_type": "code",
   "execution_count": 4,
   "metadata": {},
   "outputs": [
    {
     "data": {
      "application/vnd.jupyter.widget-view+json": {
       "model_id": "b709c54a176e4ed282f32289f28008ae",
       "version_major": 2,
       "version_minor": 0
      },
      "text/plain": [
       "FigureCanvasNbAgg()"
      ]
     },
     "metadata": {},
     "output_type": "display_data"
    }
   ],
   "source": [
    "plt.figure()\n",
    "plt.scatter(data_new[:, 0], data_new[:, 1], c=label)\n",
    "plt.show()"
   ]
  },
  {
   "cell_type": "code",
   "execution_count": 120,
   "metadata": {},
   "outputs": [],
   "source": [
    "class GPAE(nn.Module):\n",
    "    def __init__(self, ndim_x, ndim_v, twin_kernel = False):\n",
    "        super(GPAE, self).__init__()\n",
    "        \"입력변수 및 잠재변수 차원 지정\"\n",
    "        self.ndim_x = ndim_x\n",
    "        self.ndim_v = ndim_v\n",
    "        \n",
    "        \"GP 모델에 적합시킬 데이터 저장\"\n",
    "        self.data_x = torch.zeros(0, self.ndim_x)\n",
    "        self.data_v = torch.zeros(0, 0)\n",
    "        self.recon = torch.zeros(0, self.ndim_x)\n",
    "        \n",
    "        \"저장한 데이터에서 설명변수들을 가지고 L2 pairwise distance(Euclidean distance)를 구할 것\"\n",
    "        self.dist_x = torch.zeros((self.ndim_x, 0, 0))\n",
    "        \n",
    "        \"Latent dimension의 gram matrix 저장\"\n",
    "        self.gram_v = torch.zeros((self.ndim_v, 0, 0), requires_grad = True)\n",
    "        \n",
    "        \"Kernel Hyperparameter\"\n",
    "        self.KHP = torch.randn((self.ndim_x, self.ndim_v), requires_grad = True)\n",
    "        self.KHP_decode = torch.randn((self.ndim_v, self.ndim_x), requires_grad = True)\n",
    "        \n",
    "        \"Noise Parameter\"\n",
    "        self.beta_v = torch.randn(self.ndim_v, requires_grad = True)\n",
    "        \n",
    "        \"weight, noise 의 효과를 양수로 유지\"\n",
    "        self.normalize = nn.Softplus()\n",
    "        \n",
    "        \n",
    "    \n",
    "    \"Distance Matrix 계산 함수\"\n",
    "    def distance(self, data_input):\n",
    "        N = data_input.shape[0]\n",
    "        D = data_input.shape[1]\n",
    "        dist = torch.zeros(D, N, N)\n",
    "        for dim in range(D):\n",
    "            term1 = (data_input[:, dim] ** 2).expand((N,N))\n",
    "            term2 = data_input[:, dim].unsqueeze(0).transpose(0, 1) * data_input[:, dim].unsqueeze(0)\n",
    "            dist[dim] = (term1 + term1.transpose(0,1) - 2 * term2).unsqueeze(0)\n",
    "        return dist\n",
    "    \n",
    "    \n",
    "    \"새로운 데이터의 X값들 추가\"\n",
    "    def fit_x(self, x_new):\n",
    "        self.data_x = torch.cat((self.data_x, x_new), 0)\n",
    "        self.dist_x = self.distance(self.data_x)\n",
    "    \n",
    "    def noise(self):\n",
    "        return torch.einsum(\"abc,a->abc\", (torch.eye(self.data_x.shape[0]).unsqueeze(0).expand(self.ndim_v, self.data_x.shape[0], self.data_x.shape[0]), self.normalize(self.beta_v)))\n",
    "        \n",
    "    def encode(self):\n",
    "        x = torch.einsum(\"abc,ad->dbc\", (self.dist_x, self.normalize(self.KHP)))\n",
    "        x = torch.exp(-x/2)\n",
    "        x = x + self.noise()\n",
    "        self.gram_v = x\n",
    "        return (x.narrow(1,0,1) ** 2 + x.narrow(2,0,1) ** 2 - x)/2\n",
    "    \n",
    "    def decode(self):\n",
    "        x = self.gram_v - self.noise()\n",
    "        x = -2 * torch.log(torch.clamp(x, min = 1e-8))\n",
    "        x = torch.einsum(\"abc,ad->dbc\", (x, self.normalize(self.KHP_decode)))\n",
    "        return x\n",
    "        \n",
    "        \n",
    "    def forward(self):\n",
    "        x = self.encode()        \n",
    "        decomp = x.squeeze(0).svd()\n",
    "        self.data_v = torch.mm(decomp[0].narrow(1, 0, 2), torch.diag(torch.sqrt(decomp[1].narrow(0, 0, 2))))\n",
    "        return torch.log(torch.clamp(torch.det(self.gram_v.squeeze(0)), min=1e-6)) + torch.trace(self.data_v.transpose(0,1)@self.gram_v.squeeze(0)@self.data_v)"
   ]
  },
  {
   "cell_type": "code",
   "execution_count": 121,
   "metadata": {},
   "outputs": [],
   "source": [
    "\"모델 선언\"\n",
    "model = GPAE(4, 1)\n",
    "model.fit_x(torch.from_numpy(data).type(torch.float32))"
   ]
  },
  {
   "cell_type": "code",
   "execution_count": 122,
   "metadata": {},
   "outputs": [
    {
     "data": {
      "text/plain": [
       "tensor([[ 1.8322],\n",
       "        [-0.1370],\n",
       "        [-0.7827],\n",
       "        [ 0.2890]], requires_grad=True)"
      ]
     },
     "execution_count": 122,
     "metadata": {},
     "output_type": "execute_result"
    }
   ],
   "source": [
    "model.KHP"
   ]
  },
  {
   "cell_type": "code",
   "execution_count": 123,
   "metadata": {},
   "outputs": [
    {
     "name": "stdout",
     "output_type": "stream",
     "text": [
      "tensor(3017.4863)\n",
      "tensor(268.7152)\n"
     ]
    }
   ],
   "source": [
    "epoch = 300\n",
    "\n",
    "lr = 1e-1\n",
    "optimizer = torch.optim.Adam([model.KHP, model.KHP_decode, model.beta_v], lr = lr)\n",
    "\n",
    "print(model.forward().detach())\n",
    "for iteration in range(epoch):\n",
    "    optimizer.zero_grad()\n",
    "    loss = model.forward()\n",
    "    loss.backward()\n",
    "    optimizer.step()\n",
    "print(model.forward().detach())"
   ]
  },
  {
   "cell_type": "code",
   "execution_count": 124,
   "metadata": {},
   "outputs": [],
   "source": [
    "data_new = model.data_v.detach().numpy()"
   ]
  },
  {
   "cell_type": "code",
   "execution_count": 125,
   "metadata": {},
   "outputs": [
    {
     "data": {
      "application/vnd.jupyter.widget-view+json": {
       "model_id": "4b9b9e5290f74d99bc8348762a65ed74",
       "version_major": 2,
       "version_minor": 0
      },
      "text/plain": [
       "FigureCanvasNbAgg()"
      ]
     },
     "metadata": {},
     "output_type": "display_data"
    }
   ],
   "source": [
    "plt.figure()\n",
    "plt.scatter(data_new[:, 0], data_new[:, 1], c=label)\n",
    "plt.show()"
   ]
  },
  {
   "cell_type": "code",
   "execution_count": 363,
   "metadata": {},
   "outputs": [
    {
     "data": {
      "text/plain": [
       "tensor([[14.1793, 16.6445],\n",
       "        [16.9868, 20.1551],\n",
       "        [12.1660, 16.6504],\n",
       "        [17.1085, 18.4652]], requires_grad=True)"
      ]
     },
     "execution_count": 363,
     "metadata": {},
     "output_type": "execute_result"
    }
   ],
   "source": [
    "model.KHP"
   ]
  },
  {
   "cell_type": "code",
   "execution_count": 364,
   "metadata": {},
   "outputs": [
    {
     "data": {
      "text/plain": [
       "tensor([[-0.4583,  0.3218, -0.3131, -0.8776],\n",
       "        [ 1.6973, -1.1141,  0.7879, -3.9338]], requires_grad=True)"
      ]
     },
     "execution_count": 364,
     "metadata": {},
     "output_type": "execute_result"
    }
   ],
   "source": [
    "model.KHP_decode"
   ]
  },
  {
   "cell_type": "code",
   "execution_count": 365,
   "metadata": {},
   "outputs": [
    {
     "data": {
      "text/plain": [
       "tensor([-4.6001, -4.4250], requires_grad=True)"
      ]
     },
     "execution_count": 365,
     "metadata": {},
     "output_type": "execute_result"
    }
   ],
   "source": [
    "model.beta_v"
   ]
  },
  {
   "cell_type": "code",
   "execution_count": null,
   "metadata": {},
   "outputs": [],
   "source": []
  }
 ],
 "metadata": {
  "kernelspec": {
   "display_name": "Python 3",
   "language": "python",
   "name": "python3"
  },
  "language_info": {
   "codemirror_mode": {
    "name": "ipython",
    "version": 3
   },
   "file_extension": ".py",
   "mimetype": "text/x-python",
   "name": "python",
   "nbconvert_exporter": "python",
   "pygments_lexer": "ipython3",
   "version": "3.7.1"
  }
 },
 "nbformat": 4,
 "nbformat_minor": 2
}

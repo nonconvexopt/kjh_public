{
 "cells": [
  {
   "cell_type": "code",
   "execution_count": 1,
   "metadata": {},
   "outputs": [],
   "source": [
    "from lightgbm import LGBMRegressor\n",
    "from hyperopt import fmin, tpe, hp\n",
    "from sklearn.metrics import mean_squared_error\n",
    "import pandas as pd\n",
    "import numpy as np\n",
    "import gc"
   ]
  },
  {
   "cell_type": "markdown",
   "metadata": {},
   "source": [
    "<h3>NA imputed with 0</h3>"
   ]
  },
  {
   "cell_type": "code",
   "execution_count": 2,
   "metadata": {},
   "outputs": [],
   "source": [
    "data = pd.read_pickle('./data/data.pkl')\n",
    "\n",
    "X_train = data[data.date_block_num < 33].drop(['item_cnt_month', 'ID'], axis=1)\n",
    "Y_train = data[data.date_block_num < 33]['item_cnt_month']\n",
    "X_valid = data[data.date_block_num == 33].drop(['item_cnt_month', 'ID'], axis=1)\n",
    "Y_valid = data[data.date_block_num == 33]['item_cnt_month']\n",
    "X_test = data[data.date_block_num == 34].drop(['item_cnt_month', 'ID'], axis=1)\n",
    "\n",
    "del data\n",
    "gc.collect()"
   ]
  },
  {
   "cell_type": "code",
   "execution_count": 3,
   "metadata": {},
   "outputs": [
    {
     "name": "stdout",
     "output_type": "stream",
     "text": [
      "100%|██████████████████████████████████████████| 1000/1000 [4:08:24<00:00, 14.90s/trial, best loss: 0.8638107966557266]\n",
      "{'learning_rate': 0.03468199052620827, 'max_depth': 10.0, 'n_estimators': 700.0, 'num_leaves': 190.0, 'subsample': 0.8431376859767725}\n"
     ]
    }
   ],
   "source": [
    "#Search space\n",
    "param_space = {\n",
    "    'learning_rate':hp.loguniform('learning_rate', np.log(0.001), np.log(0.1)),\n",
    "    'max_depth': hp.quniform('max_depth', 7, 20, 1),\n",
    "    'subsample': hp.uniform('subsample', 0.1, 0.9),\n",
    "    'n_estimators': hp.quniform('n_estimators', 500, 2000, 100),\n",
    "    'num_leaves': hp.quniform('num_leaves', 50, 250, 10)}\n",
    "\n",
    "#objective\n",
    "def objective(params):\n",
    "    parameters = {\n",
    "        'learning_rate': params['learning_rate'],\n",
    "        'max_depth': int(params['max_depth']), \n",
    "        'boosting': 'gbdt', \n",
    "        'objective': 'regression',\n",
    "        'n_estimators' : int(params['n_estimators']),\n",
    "        'metric': 'rmse', \n",
    "        'is_training_metric': True, \n",
    "        'num_leaves': int(params['num_leaves']),\n",
    "        'subsample' : params['subsample'],\n",
    "        'feature_fraction': 0.9, \n",
    "        'bagging_fraction': 0.7, \n",
    "        'bagging_freq': 5}\n",
    "    model = LGBMRegressor(**parameters)\n",
    "    \n",
    "    model.fit(\n",
    "        X_train,\n",
    "        Y_train, \n",
    "        eval_metric=\"rmse\", \n",
    "        eval_set=[(X_valid, Y_valid)], \n",
    "        verbose=False, \n",
    "        early_stopping_rounds = 10)\n",
    "    \n",
    "    return mean_squared_error(Y_valid, model.predict(X_valid).clip(0, 20), squared=True)\n",
    "\n",
    "#run\n",
    "best = fmin(fn=objective, space=param_space, \n",
    "            max_evals=1000, \n",
    "            rstate=np.random.RandomState(777), \n",
    "            algo=tpe.suggest)\n",
    "print(best)"
   ]
  },
  {
   "cell_type": "code",
   "execution_count": 17,
   "metadata": {},
   "outputs": [
    {
     "name": "stdout",
     "output_type": "stream",
     "text": [
      "Training until validation scores don't improve for 100 rounds\n",
      "[10]\tvalid_0's rmse: 1.09625\n",
      "[20]\tvalid_0's rmse: 1.01699\n",
      "[30]\tvalid_0's rmse: 0.978223\n",
      "[40]\tvalid_0's rmse: 0.958632\n",
      "[50]\tvalid_0's rmse: 0.948649\n",
      "[60]\tvalid_0's rmse: 0.943686\n",
      "[70]\tvalid_0's rmse: 0.942817\n",
      "[80]\tvalid_0's rmse: 0.944902\n",
      "[90]\tvalid_0's rmse: 0.948934\n",
      "[100]\tvalid_0's rmse: 0.95182\n",
      "[110]\tvalid_0's rmse: 0.954684\n",
      "[120]\tvalid_0's rmse: 0.956235\n",
      "[130]\tvalid_0's rmse: 0.956447\n",
      "[140]\tvalid_0's rmse: 0.957937\n",
      "[150]\tvalid_0's rmse: 0.958939\n",
      "[160]\tvalid_0's rmse: 0.960486\n",
      "Early stopping, best iteration is:\n",
      "[64]\tvalid_0's rmse: 0.9426\n"
     ]
    },
    {
     "data": {
      "text/plain": [
       "LGBMRegressor(boosting='gbdt', boosting_type='gbdt', class_weight=None,\n",
       "              colsample_bytree=1.0, importance_type='split',\n",
       "              is_training_metric=True, learning_rate=0.03468199052620827,\n",
       "              max_depth=10, metric='rmse', min_child_samples=20,\n",
       "              min_child_weight=0.001, min_split_gain=0.0, n_estimators=700,\n",
       "              n_jobs=-1, num_leaves=190, objective='regression',\n",
       "              random_state=None, reg_alpha=0.0, reg_lambda=0.0, silent=True,\n",
       "              subsample=0.8431376859767725, subsample_for_bin=200000,\n",
       "              subsample_freq=0)"
      ]
     },
     "execution_count": 17,
     "metadata": {},
     "output_type": "execute_result"
    }
   ],
   "source": [
    "parameters = {\n",
    "        'learning_rate': 0.03468199052620827,\n",
    "        'max_depth': 10, \n",
    "        'boosting': 'gbdt', \n",
    "        'objective': 'regression',\n",
    "        'n_estimators' : 700,\n",
    "        'metric': 'rmse', \n",
    "        'is_training_metric': True, \n",
    "        'num_leaves': 190,\n",
    "        'subsample' : 0.8431376859767725}\n",
    "model = LGBMRegressor(**parameters)\n",
    "    \n",
    "model.fit(\n",
    "    X_train,\n",
    "    Y_train, \n",
    "    eval_metric=\"rmse\", \n",
    "    eval_set=[(X_valid, Y_valid)], \n",
    "    verbose=10,\n",
    "    early_stopping_rounds = 100)"
   ]
  },
  {
   "cell_type": "code",
   "execution_count": 15,
   "metadata": {},
   "outputs": [],
   "source": [
    "data = pd.read_csv(\"./data/test.csv\")\n",
    "data['item_cnt_month'] = model.predict(X_test).clip(0, 20)\n",
    "data[['ID', 'item_cnt_month']].to_csv(\"./features/feature_lgbm.csv\", index = False)"
   ]
  },
  {
   "cell_type": "code",
   "execution_count": 16,
   "metadata": {},
   "outputs": [],
   "source": [
    "pred = model.predict(pd.concat((X_train, X_valid))).clip(0, 20)\n",
    "data = pd.concat((X_train, X_valid))\n",
    "data['item_cnt_month'] = pred\n",
    "data.to_csv(\"./features_train/feature_lgbm.csv\")"
   ]
  },
  {
   "cell_type": "markdown",
   "metadata": {},
   "source": [
    "<h3>NA not imputed</h3>"
   ]
  },
  {
   "cell_type": "code",
   "execution_count": 2,
   "metadata": {},
   "outputs": [
    {
     "data": {
      "text/plain": [
       "0"
      ]
     },
     "execution_count": 2,
     "metadata": {},
     "output_type": "execute_result"
    }
   ],
   "source": [
    "data = pd.read_pickle('./data/data_na.pkl')\n",
    "\n",
    "X_train = data[data.date_block_num < 33].drop(['item_cnt_month', 'ID'], axis=1)\n",
    "Y_train = data[data.date_block_num < 33]['item_cnt_month']\n",
    "X_valid = data[data.date_block_num == 33].drop(['item_cnt_month', 'ID'], axis=1)\n",
    "Y_valid = data[data.date_block_num == 33]['item_cnt_month']\n",
    "X_test = data[data.date_block_num == 34].drop(['item_cnt_month', 'ID'], axis=1)\n",
    "\n",
    "del data\n",
    "gc.collect()"
   ]
  },
  {
   "cell_type": "code",
   "execution_count": null,
   "metadata": {},
   "outputs": [
    {
     "name": "stdout",
     "output_type": "stream",
     "text": [
      " 98%|█████████████████████████████████████████▉ | 976/1000 [3:54:04<04:36, 11.51s/trial, best loss: 0.8614991173810351]"
     ]
    }
   ],
   "source": [
    "#Search space\n",
    "param_space = {\n",
    "    'learning_rate':hp.loguniform('learning_rate', np.log(0.001), np.log(0.1)),\n",
    "    'max_depth': hp.quniform('max_depth', 7, 20, 1),\n",
    "    'subsample': hp.uniform('subsample', 0.1, 0.9),\n",
    "    'n_estimators': hp.quniform('n_estimators', 500, 2000, 100),\n",
    "    'num_leaves': hp.quniform('num_leaves', 50, 250, 10)}\n",
    "\n",
    "#objective\n",
    "def objective(params):\n",
    "    parameters = {\n",
    "        'learning_rate': params['learning_rate'],\n",
    "        'max_depth': int(params['max_depth']), \n",
    "        'boosting': 'gbdt', \n",
    "        'objective': 'regression',\n",
    "        'n_estimators' : int(params['n_estimators']),\n",
    "        'metric': 'rmse', \n",
    "        'is_training_metric': True, \n",
    "        'num_leaves': int(params['num_leaves']),\n",
    "        'subsample' : params['subsample']}\n",
    "    model = LGBMRegressor(**parameters)\n",
    "    \n",
    "    model.fit(\n",
    "        X_train,\n",
    "        Y_train, \n",
    "        eval_metric=\"rmse\", \n",
    "        eval_set=[(X_valid, Y_valid)], \n",
    "        verbose=False,\n",
    "        early_stopping_rounds = 10)\n",
    "    \n",
    "    return mean_squared_error(Y_valid, model.predict(X_valid), squared=True)\n",
    "\n",
    "#run\n",
    "best = fmin(fn=objective, space=param_space, \n",
    "            max_evals=1000, \n",
    "            rstate=np.random.RandomState(777), \n",
    "            algo=tpe.suggest)\n",
    "print(best)"
   ]
  },
  {
   "cell_type": "code",
   "execution_count": 9,
   "metadata": {},
   "outputs": [
    {
     "name": "stdout",
     "output_type": "stream",
     "text": [
      "Training until validation scores don't improve for 100 rounds\n",
      "[10]\tvalid_0's rmse: 1.03835\n",
      "[20]\tvalid_0's rmse: 0.95918\n",
      "[30]\tvalid_0's rmse: 0.934791\n",
      "[40]\tvalid_0's rmse: 0.930065\n",
      "[50]\tvalid_0's rmse: 0.931467\n",
      "[60]\tvalid_0's rmse: 0.934066\n",
      "[70]\tvalid_0's rmse: 0.937915\n",
      "[80]\tvalid_0's rmse: 0.938713\n",
      "[90]\tvalid_0's rmse: 0.941475\n",
      "[100]\tvalid_0's rmse: 0.941933\n",
      "[110]\tvalid_0's rmse: 0.941998\n",
      "[120]\tvalid_0's rmse: 0.942466\n",
      "[130]\tvalid_0's rmse: 0.940318\n",
      "[140]\tvalid_0's rmse: 0.939039\n",
      "Early stopping, best iteration is:\n",
      "[45]\tvalid_0's rmse: 0.92817\n"
     ]
    },
    {
     "data": {
      "text/plain": [
       "LGBMRegressor(boosting='gbdt', boosting_type='gbdt', class_weight=None,\n",
       "              colsample_bytree=1.0, importance_type='split',\n",
       "              is_training_metric=True, learning_rate=0.05478584195652779,\n",
       "              max_depth=13, metric='rmse', min_child_samples=20,\n",
       "              min_child_weight=0.001, min_split_gain=0.0, n_estimators=1400,\n",
       "              n_jobs=-1, num_leaves=140, objective='regression',\n",
       "              random_state=None, reg_alpha=0.0, reg_lambda=0.0, silent=True,\n",
       "              subsample=0.33150640732190106, subsample_for_bin=200000,\n",
       "              subsample_freq=0)"
      ]
     },
     "execution_count": 9,
     "metadata": {},
     "output_type": "execute_result"
    }
   ],
   "source": [
    "parameters = {\n",
    "        'learning_rate': 0.05478584195652779,\n",
    "        'max_depth': 13, \n",
    "        'boosting': 'gbdt', \n",
    "        'objective': 'regression',\n",
    "        'n_estimators' : 1400,\n",
    "        'metric': 'rmse', \n",
    "        'is_training_metric': True, \n",
    "        'num_leaves': 140,\n",
    "        'subsample' : 0.33150640732190106}\n",
    "model = LGBMRegressor(**parameters)\n",
    "    \n",
    "model.fit(\n",
    "    X_train,\n",
    "    Y_train, \n",
    "    eval_metric=\"rmse\", \n",
    "    eval_set=[(X_valid, Y_valid)], \n",
    "    verbose=10,\n",
    "    early_stopping_rounds = 100)"
   ]
  },
  {
   "cell_type": "code",
   "execution_count": 12,
   "metadata": {},
   "outputs": [],
   "source": [
    "data = pd.read_csv(\"./data/test.csv\")\n",
    "data['item_cnt_month'] = model.predict(X_test).clip(0, 20)\n",
    "data[['ID', 'item_cnt_month']].to_csv(\"./features/feature_lgbm_na.csv\", index = False)"
   ]
  },
  {
   "cell_type": "code",
   "execution_count": 13,
   "metadata": {},
   "outputs": [],
   "source": [
    "pred = model.predict(pd.concat((X_train, X_valid))).clip(0, 20)\n",
    "data = pd.concat((X_train, X_valid))\n",
    "data['item_cnt_month'] = pred\n",
    "data.to_csv(\"./features_train/feature_lgbm_na.csv\")"
   ]
  },
  {
   "cell_type": "code",
   "execution_count": null,
   "metadata": {},
   "outputs": [],
   "source": []
  }
 ],
 "metadata": {
  "kernelspec": {
   "display_name": "Python 3",
   "language": "python",
   "name": "python3"
  },
  "language_info": {
   "codemirror_mode": {
    "name": "ipython",
    "version": 3
   },
   "file_extension": ".py",
   "mimetype": "text/x-python",
   "name": "python",
   "nbconvert_exporter": "python",
   "pygments_lexer": "ipython3",
   "version": "3.7.7"
  }
 },
 "nbformat": 4,
 "nbformat_minor": 4
}
